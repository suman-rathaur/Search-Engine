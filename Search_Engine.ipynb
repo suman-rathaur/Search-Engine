{
  "cells": [
    {
      "cell_type": "markdown",
      "metadata": {
        "id": "iJeGJqhdIXMa"
      },
      "source": [
        "# Search Engine Implementation\n",
        "\n",
        " * Implementing News search engine\n",
        " * Dataset: https://www.kaggle.com/datasets/rmisra/news-category-dataset"
      ]
    },
    {
      "cell_type": "markdown",
      "source": [
        "## Installing and setting up Elasticsearch"
      ],
      "metadata": {
        "id": "4baT928Jv-gE"
      }
    },
    {
      "cell_type": "code",
      "execution_count": null,
      "metadata": {
        "id": "ttJG1R0v2uU0"
      },
      "outputs": [],
      "source": [
        "# The following bash scripts download the ElasticSearch library and install it\n",
        "# on the Google Colab instance.\n",
        "# Credit for the bash scripts and server run start goes to:\n",
        "# https://gist.github.com/korakot/15fe4f18d0e0f53d7b834ef797880500\n",
        "\n",
        "# You need to run these only once when you work on your search engine notebook.\n",
        "\n",
        "# NOTE: If you are working on a large dataset (20k+ docs) you should do this\n",
        "# locally i.e. in a jupyter notebook. This way you only need to install ES once\n",
        "# and index your data once."
      ]
    },
    {
      "cell_type": "code",
      "execution_count": null,
      "metadata": {
        "id": "HoS7bcvWqpVU",
        "colab": {
          "base_uri": "https://localhost:8080/"
        },
        "outputId": "425538a7-ce77-4ab9-f32a-d2a34576c232"
      },
      "outputs": [
        {
          "output_type": "stream",
          "name": "stdout",
          "text": [
            "elasticsearch-oss-7.9.2-linux-x86_64.tar.gz: OK\n"
          ]
        }
      ],
      "source": [
        "!wget -q https://artifacts.elastic.co/downloads/elasticsearch/elasticsearch-oss-7.9.2-linux-x86_64.tar.gz\n",
        "!wget -q https://artifacts.elastic.co/downloads/elasticsearch/elasticsearch-oss-7.9.2-linux-x86_64.tar.gz.sha512\n",
        "!tar -xzf elasticsearch-oss-7.9.2-linux-x86_64.tar.gz\n",
        "!sudo chown -R daemon:daemon elasticsearch-7.9.2/\n",
        "!shasum -a 512 -c elasticsearch-oss-7.9.2-linux-x86_64.tar.gz.sha512"
      ]
    },
    {
      "cell_type": "code",
      "execution_count": null,
      "metadata": {
        "id": "rFthW4VFqsZH"
      },
      "outputs": [],
      "source": [
        "# https://stackoverflow.com/questions/68762774/elasticsearchunsupportedproducterror-the-client-noticed-that-the-server-is-no#answer-68918449\n",
        "!pip install elasticsearch==7.9.1 -q"
      ]
    },
    {
      "cell_type": "code",
      "execution_count": null,
      "metadata": {
        "id": "8cPmoIEIqtEH",
        "colab": {
          "base_uri": "https://localhost:8080/"
        },
        "outputId": "b266f1bd-2879-4cc8-a3a4-5df276d69df2"
      },
      "outputs": [
        {
          "output_type": "stream",
          "name": "stdout",
          "text": [
            "elasticsearch==7.9.1\n"
          ]
        }
      ],
      "source": [
        "# check elasticsearch version in environment\n",
        "!pip freeze | grep elasticsearch"
      ]
    },
    {
      "cell_type": "code",
      "execution_count": null,
      "metadata": {
        "id": "FZrLVP4A3u02"
      },
      "outputs": [],
      "source": [
        "# Import required libraries\n",
        "# import urllib.request\n",
        "import pandas as pd\n",
        "import nltk\n",
        "from nltk.corpus import stopwords\n",
        "from nltk.tokenize import word_tokenize\n",
        "from elasticsearch import Elasticsearch\n",
        "from flask import Flask, render_template, request, jsonify\n",
        "from sklearn.ensemble import RandomForestClassifier\n",
        "from sklearn.feature_extraction.text import CountVectorizer, TfidfTransformer, TfidfVectorizer\n",
        "from sklearn import preprocessing, model_selection, naive_bayes, pipeline, manifold\n",
        "from sklearn.linear_model import LogisticRegression\n",
        "from sklearn.neighbors import KNeighborsClassifier\n",
        "from sklearn.metrics import classification_report, confusion_matrix, accuracy_score\n",
        "from sklearn.pipeline import Pipeline\n",
        "from sklearn.preprocessing import StandardScaler\n",
        "from sklearn.model_selection import train_test_split\n",
        "\n",
        "# from bs4 import BeautifulSoup\n",
        "import re\n",
        "import time\n",
        "import string\n",
        "from nltk.corpus import wordnet\n",
        "import ipywidgets as widgets\n",
        "from google.colab import files\n",
        "import numpy as np\n",
        "\n",
        "# for data\n",
        "import json\n",
        "\n",
        "# for plotting\n",
        "# import matplotlib.pyplot as plt\n",
        "import seaborn as sns\n",
        "\n",
        "# for processing\n",
        "import nltk\n",
        "\n",
        "# for bag-of-words\n",
        "# import feature_extraction\n",
        "# import naive_bayes\n",
        "# import manifold\n",
        "# import preprocessing\n",
        "\n",
        "# for explainer\n",
        "# import lime_text\n",
        "\n",
        "# for word embedding\n",
        "# import gensim\n",
        "# import gensim.downloader as gensim_api\n"
      ]
    },
    {
      "cell_type": "code",
      "source": [
        "# Download required NLTK resources\n",
        "nltk.download('words')\n",
        "nltk.download('stopwords')\n",
        "nltk.download('punkt')\n",
        "nltk.download('wordnet')"
      ],
      "metadata": {
        "colab": {
          "base_uri": "https://localhost:8080/"
        },
        "id": "Ka5Zlk73MERF",
        "outputId": "ae496b86-c0b6-4b47-d30e-fa4801ceb1a0"
      },
      "execution_count": null,
      "outputs": [
        {
          "output_type": "stream",
          "name": "stderr",
          "text": [
            "[nltk_data] Downloading package words to /root/nltk_data...\n",
            "[nltk_data]   Package words is already up-to-date!\n",
            "[nltk_data] Downloading package stopwords to /root/nltk_data...\n",
            "[nltk_data]   Package stopwords is already up-to-date!\n",
            "[nltk_data] Downloading package punkt to /root/nltk_data...\n",
            "[nltk_data]   Package punkt is already up-to-date!\n",
            "[nltk_data] Downloading package wordnet to /root/nltk_data...\n",
            "[nltk_data]   Package wordnet is already up-to-date!\n"
          ]
        },
        {
          "output_type": "execute_result",
          "data": {
            "text/plain": [
              "True"
            ]
          },
          "metadata": {},
          "execution_count": 6
        }
      ]
    },
    {
      "cell_type": "code",
      "execution_count": null,
      "metadata": {
        "id": "8Gsh9Jl94GDu"
      },
      "outputs": [],
      "source": [
        "# Starting Elasticsearch server\n",
        "%%bash --bg\n",
        "sudo -H -u daemon elasticsearch-7.9.2/bin/elasticsearch"
      ]
    },
    {
      "cell_type": "code",
      "execution_count": null,
      "metadata": {
        "id": "QCB_UilB4cus",
        "colab": {
          "base_uri": "https://localhost:8080/"
        },
        "outputId": "e21efcea-ea59-4d34-aefe-25bfc671ab3a"
      },
      "outputs": [
        {
          "output_type": "stream",
          "name": "stdout",
          "text": [
            "root       72132   72130  0 17:32 ?        00:00:00 sudo -H -u daemon elasticsearch-7.9.2/bin/elasticsearch\n",
            "daemon     72133   72132  0 17:32 ?        00:00:00 /bin/bash elasticsearch-7.9.2/bin/elasticsearch\n",
            "root       72153   72139  0 17:32 ?        00:00:00 grep elasticsearch\n",
            "daemon     72154   72133  0 17:32 ?        00:00:00 /bin/bash elasticsearch-7.9.2/bin/elasticsearch\n"
          ]
        }
      ],
      "source": [
        "%%bash\n",
        "ps -ef | grep elasticsearch"
      ]
    },
    {
      "cell_type": "code",
      "execution_count": null,
      "metadata": {
        "id": "T_KeRy6f3qEE",
        "colab": {
          "base_uri": "https://localhost:8080/"
        },
        "outputId": "7b90d0f9-adcc-4ef4-e823-f2daede78d9b"
      },
      "outputs": [
        {
          "output_type": "stream",
          "name": "stdout",
          "text": [
            "{\n",
            "  \"name\" : \"b7dbf95ab1b3\",\n",
            "  \"cluster_name\" : \"elasticsearch\",\n",
            "  \"cluster_uuid\" : \"wmxTC68fQ5axkS4QPiSImA\",\n",
            "  \"version\" : {\n",
            "    \"number\" : \"7.9.2\",\n",
            "    \"build_flavor\" : \"oss\",\n",
            "    \"build_type\" : \"tar\",\n",
            "    \"build_hash\" : \"d34da0ea4a966c4e49417f2da2f244e3e97b4e6e\",\n",
            "    \"build_date\" : \"2020-09-23T00:45:33.626720Z\",\n",
            "    \"build_snapshot\" : false,\n",
            "    \"lucene_version\" : \"8.6.2\",\n",
            "    \"minimum_wire_compatibility_version\" : \"6.8.0\",\n",
            "    \"minimum_index_compatibility_version\" : \"6.0.0-beta1\"\n",
            "  },\n",
            "  \"tagline\" : \"You Know, for Search\"\n",
            "}\n"
          ]
        }
      ],
      "source": [
        "# start ES server\n",
        "time.sleep(30) # Wait for 30 seconds to start the server\n",
        "!curl -X GET \"http://localhost:9200\""
      ]
    },
    {
      "cell_type": "code",
      "execution_count": null,
      "metadata": {
        "id": "4jUzDg6LrV_Q",
        "colab": {
          "base_uri": "https://localhost:8080/"
        },
        "outputId": "005f6232-0b0a-49e0-ec96-5fa7849b1430"
      },
      "outputs": [
        {
          "output_type": "stream",
          "name": "stdout",
          "text": [
            "ES instance working\n"
          ]
        }
      ],
      "source": [
        "# Testing Elasticsearch instance\n",
        "es = Elasticsearch(\"http://localhost:9200\")\n",
        "if es.ping():\n",
        "  print('ES instance working')\n",
        "else:\n",
        "  print('ES instance not working')"
      ]
    },
    {
      "cell_type": "code",
      "execution_count": null,
      "metadata": {
        "id": "fUBzDY_ssB4e",
        "colab": {
          "base_uri": "https://localhost:8080/"
        },
        "outputId": "70935bec-3788-47b7-c71b-39aae29519e4"
      },
      "outputs": [
        {
          "output_type": "execute_result",
          "data": {
            "text/plain": [
              "{'name': 'b7dbf95ab1b3',\n",
              " 'cluster_name': 'elasticsearch',\n",
              " 'cluster_uuid': 'wmxTC68fQ5axkS4QPiSImA',\n",
              " 'version': {'number': '7.9.2',\n",
              "  'build_flavor': 'oss',\n",
              "  'build_type': 'tar',\n",
              "  'build_hash': 'd34da0ea4a966c4e49417f2da2f244e3e97b4e6e',\n",
              "  'build_date': '2020-09-23T00:45:33.626720Z',\n",
              "  'build_snapshot': False,\n",
              "  'lucene_version': '8.6.2',\n",
              "  'minimum_wire_compatibility_version': '6.8.0',\n",
              "  'minimum_index_compatibility_version': '6.0.0-beta1'},\n",
              " 'tagline': 'You Know, for Search'}"
            ]
          },
          "metadata": {},
          "execution_count": 11
        }
      ],
      "source": [
        "# The Server's information\n",
        "es.info()"
      ]
    },
    {
      "cell_type": "markdown",
      "source": [
        "\n",
        "\n",
        "\n",
        "\n",
        "# Loading data from Kaggle dataset\n",
        "\n",
        "\n"
      ],
      "metadata": {
        "id": "_qjhOySQFwgr"
      }
    },
    {
      "cell_type": "markdown",
      "source": [
        "##Setup Steps\n",
        "In order to get our own JSON file, we need to follow these steps:\n",
        "\n",
        "\n",
        "*   First we need to select any dataset from Kaggle\n",
        "*   Then we should download API Credentials\n",
        "*   After that, we must setup the Colab Notebook\n",
        "*   And finally download the dataset"
      ],
      "metadata": {
        "id": "UTsuZfQmwNbf"
      }
    },
    {
      "cell_type": "code",
      "source": [
        "#1. Uploading and reading our news dataset\n",
        "df = files.upload()"
      ],
      "metadata": {
        "colab": {
          "base_uri": "https://localhost:8080/",
          "height": 73
        },
        "id": "kdJ8KCVtFzoU",
        "outputId": "f2f292e0-c747-40fe-a36d-90d8365a62e6"
      },
      "execution_count": null,
      "outputs": [
        {
          "output_type": "display_data",
          "data": {
            "text/plain": [
              "<IPython.core.display.HTML object>"
            ],
            "text/html": [
              "\n",
              "     <input type=\"file\" id=\"files-00aa349c-15e4-4d7c-9a8d-d98a05ba85ad\" name=\"files[]\" multiple disabled\n",
              "        style=\"border:none\" />\n",
              "     <output id=\"result-00aa349c-15e4-4d7c-9a8d-d98a05ba85ad\">\n",
              "      Upload widget is only available when the cell has been executed in the\n",
              "      current browser session. Please rerun this cell to enable.\n",
              "      </output>\n",
              "      <script>// Copyright 2017 Google LLC\n",
              "//\n",
              "// Licensed under the Apache License, Version 2.0 (the \"License\");\n",
              "// you may not use this file except in compliance with the License.\n",
              "// You may obtain a copy of the License at\n",
              "//\n",
              "//      http://www.apache.org/licenses/LICENSE-2.0\n",
              "//\n",
              "// Unless required by applicable law or agreed to in writing, software\n",
              "// distributed under the License is distributed on an \"AS IS\" BASIS,\n",
              "// WITHOUT WARRANTIES OR CONDITIONS OF ANY KIND, either express or implied.\n",
              "// See the License for the specific language governing permissions and\n",
              "// limitations under the License.\n",
              "\n",
              "/**\n",
              " * @fileoverview Helpers for google.colab Python module.\n",
              " */\n",
              "(function(scope) {\n",
              "function span(text, styleAttributes = {}) {\n",
              "  const element = document.createElement('span');\n",
              "  element.textContent = text;\n",
              "  for (const key of Object.keys(styleAttributes)) {\n",
              "    element.style[key] = styleAttributes[key];\n",
              "  }\n",
              "  return element;\n",
              "}\n",
              "\n",
              "// Max number of bytes which will be uploaded at a time.\n",
              "const MAX_PAYLOAD_SIZE = 100 * 1024;\n",
              "\n",
              "function _uploadFiles(inputId, outputId) {\n",
              "  const steps = uploadFilesStep(inputId, outputId);\n",
              "  const outputElement = document.getElementById(outputId);\n",
              "  // Cache steps on the outputElement to make it available for the next call\n",
              "  // to uploadFilesContinue from Python.\n",
              "  outputElement.steps = steps;\n",
              "\n",
              "  return _uploadFilesContinue(outputId);\n",
              "}\n",
              "\n",
              "// This is roughly an async generator (not supported in the browser yet),\n",
              "// where there are multiple asynchronous steps and the Python side is going\n",
              "// to poll for completion of each step.\n",
              "// This uses a Promise to block the python side on completion of each step,\n",
              "// then passes the result of the previous step as the input to the next step.\n",
              "function _uploadFilesContinue(outputId) {\n",
              "  const outputElement = document.getElementById(outputId);\n",
              "  const steps = outputElement.steps;\n",
              "\n",
              "  const next = steps.next(outputElement.lastPromiseValue);\n",
              "  return Promise.resolve(next.value.promise).then((value) => {\n",
              "    // Cache the last promise value to make it available to the next\n",
              "    // step of the generator.\n",
              "    outputElement.lastPromiseValue = value;\n",
              "    return next.value.response;\n",
              "  });\n",
              "}\n",
              "\n",
              "/**\n",
              " * Generator function which is called between each async step of the upload\n",
              " * process.\n",
              " * @param {string} inputId Element ID of the input file picker element.\n",
              " * @param {string} outputId Element ID of the output display.\n",
              " * @return {!Iterable<!Object>} Iterable of next steps.\n",
              " */\n",
              "function* uploadFilesStep(inputId, outputId) {\n",
              "  const inputElement = document.getElementById(inputId);\n",
              "  inputElement.disabled = false;\n",
              "\n",
              "  const outputElement = document.getElementById(outputId);\n",
              "  outputElement.innerHTML = '';\n",
              "\n",
              "  const pickedPromise = new Promise((resolve) => {\n",
              "    inputElement.addEventListener('change', (e) => {\n",
              "      resolve(e.target.files);\n",
              "    });\n",
              "  });\n",
              "\n",
              "  const cancel = document.createElement('button');\n",
              "  inputElement.parentElement.appendChild(cancel);\n",
              "  cancel.textContent = 'Cancel upload';\n",
              "  const cancelPromise = new Promise((resolve) => {\n",
              "    cancel.onclick = () => {\n",
              "      resolve(null);\n",
              "    };\n",
              "  });\n",
              "\n",
              "  // Wait for the user to pick the files.\n",
              "  const files = yield {\n",
              "    promise: Promise.race([pickedPromise, cancelPromise]),\n",
              "    response: {\n",
              "      action: 'starting',\n",
              "    }\n",
              "  };\n",
              "\n",
              "  cancel.remove();\n",
              "\n",
              "  // Disable the input element since further picks are not allowed.\n",
              "  inputElement.disabled = true;\n",
              "\n",
              "  if (!files) {\n",
              "    return {\n",
              "      response: {\n",
              "        action: 'complete',\n",
              "      }\n",
              "    };\n",
              "  }\n",
              "\n",
              "  for (const file of files) {\n",
              "    const li = document.createElement('li');\n",
              "    li.append(span(file.name, {fontWeight: 'bold'}));\n",
              "    li.append(span(\n",
              "        `(${file.type || 'n/a'}) - ${file.size} bytes, ` +\n",
              "        `last modified: ${\n",
              "            file.lastModifiedDate ? file.lastModifiedDate.toLocaleDateString() :\n",
              "                                    'n/a'} - `));\n",
              "    const percent = span('0% done');\n",
              "    li.appendChild(percent);\n",
              "\n",
              "    outputElement.appendChild(li);\n",
              "\n",
              "    const fileDataPromise = new Promise((resolve) => {\n",
              "      const reader = new FileReader();\n",
              "      reader.onload = (e) => {\n",
              "        resolve(e.target.result);\n",
              "      };\n",
              "      reader.readAsArrayBuffer(file);\n",
              "    });\n",
              "    // Wait for the data to be ready.\n",
              "    let fileData = yield {\n",
              "      promise: fileDataPromise,\n",
              "      response: {\n",
              "        action: 'continue',\n",
              "      }\n",
              "    };\n",
              "\n",
              "    // Use a chunked sending to avoid message size limits. See b/62115660.\n",
              "    let position = 0;\n",
              "    do {\n",
              "      const length = Math.min(fileData.byteLength - position, MAX_PAYLOAD_SIZE);\n",
              "      const chunk = new Uint8Array(fileData, position, length);\n",
              "      position += length;\n",
              "\n",
              "      const base64 = btoa(String.fromCharCode.apply(null, chunk));\n",
              "      yield {\n",
              "        response: {\n",
              "          action: 'append',\n",
              "          file: file.name,\n",
              "          data: base64,\n",
              "        },\n",
              "      };\n",
              "\n",
              "      let percentDone = fileData.byteLength === 0 ?\n",
              "          100 :\n",
              "          Math.round((position / fileData.byteLength) * 100);\n",
              "      percent.textContent = `${percentDone}% done`;\n",
              "\n",
              "    } while (position < fileData.byteLength);\n",
              "  }\n",
              "\n",
              "  // All done.\n",
              "  yield {\n",
              "    response: {\n",
              "      action: 'complete',\n",
              "    }\n",
              "  };\n",
              "}\n",
              "\n",
              "scope.google = scope.google || {};\n",
              "scope.google.colab = scope.google.colab || {};\n",
              "scope.google.colab._files = {\n",
              "  _uploadFiles,\n",
              "  _uploadFilesContinue,\n",
              "};\n",
              "})(self);\n",
              "</script> "
            ]
          },
          "metadata": {}
        },
        {
          "output_type": "stream",
          "name": "stdout",
          "text": [
            "Saving kaggle.json to kaggle (8).json\n"
          ]
        }
      ]
    },
    {
      "cell_type": "code",
      "source": [
        "#2. Set of commands for setting-up (for download)\n",
        "\n",
        "!ls -lha kaggle.json\n",
        "!pip install -q kaggle # installing the kaggle package\n",
        "!mkdir -p ~/.kaggle # creating .kaggle folder where the key should be placed\n",
        "!cp kaggle.json ~/.kaggle/ # move the key to the folder\n",
        "!pwd # checking the present working directory"
      ],
      "metadata": {
        "colab": {
          "base_uri": "https://localhost:8080/"
        },
        "id": "njADuHVXF270",
        "outputId": "26287445-afd1-4f64-ce31-398791fdd5d2"
      },
      "execution_count": null,
      "outputs": [
        {
          "output_type": "stream",
          "name": "stdout",
          "text": [
            "-rw-r--r-- 1 root root 68 Apr 14 13:56 kaggle.json\n",
            "/content\n"
          ]
        }
      ]
    },
    {
      "cell_type": "code",
      "source": [
        "#3. Giving rw access (if 401-nathorized)\n",
        "\n",
        "!chmod 600 ~/.kaggle/kaggle.json"
      ],
      "metadata": {
        "id": "3UxAVgRVF7Qj"
      },
      "execution_count": null,
      "outputs": []
    },
    {
      "cell_type": "code",
      "source": [
        "!kaggle datasets list"
      ],
      "metadata": {
        "colab": {
          "base_uri": "https://localhost:8080/"
        },
        "id": "gY6W7lwxF-jN",
        "outputId": "c96cd278-fbdb-4013-a0ae-2b46567db630"
      },
      "execution_count": null,
      "outputs": [
        {
          "output_type": "stream",
          "name": "stdout",
          "text": [
            "ref                                                        title                                           size  lastUpdated          downloadCount  voteCount  usabilityRating  \n",
            "---------------------------------------------------------  ---------------------------------------------  -----  -------------------  -------------  ---------  ---------------  \n",
            "salvatorerastelli/spotify-and-youtube                      Spotify and Youtube                              9MB  2023-03-20 15:43:25           6466        246  1.0              \n",
            "erdemtaha/cancer-data                                      Cancer Data                                     49KB  2023-03-22 07:57:00           2243         58  1.0              \n",
            "ulrikthygepedersen/fastfood-nutrition                      Fastfood Nutrition                              12KB  2023-03-21 10:02:41           2372         48  1.0              \n",
            "lokeshparab/amazon-products-dataset                        Amazon Products Sales Dataset 2023              80MB  2023-03-26 10:45:19           2609         63  1.0              \n",
            "rkiattisak/student-performance-in-mathematics              Student performance prediction                   9KB  2023-03-12 04:32:56           7610        160  1.0              \n",
            "abhishekrp1517/online-retail-transactions-dataset          Online Retail transactions Dataset              29MB  2023-03-28 16:53:16           1095         43  0.9411765        \n",
            "ashishraut64/global-methane-emissions                      Global Emissions.                               31KB  2023-03-27 09:02:51           2269         49  1.0              \n",
            "ashishraut64/internet-users                                Global Internet users                          163KB  2023-03-29 12:25:13           1538         45  1.0              \n",
            "arnabchaki/popular-video-games-1980-2023                   Popular Video Games 1980 - 2023 🎮                1MB  2023-03-23 16:16:51           3229         97  1.0              \n",
            "dgoenrique/netflix-movies-and-tv-shows                     Netflix Movies and TV Shows                      2MB  2023-03-13 18:49:00           3493         86  1.0              \n",
            "priyanshuganwani09/entertainment-movies-tv-shows-database  Entertainment (movies, tv shows) Dataset        47KB  2023-04-02 17:52:36            817         29  1.0              \n",
            "muhammedzidan/car-prices-market                            Car Prices Market                              787KB  2023-04-01 10:07:17           1254         37  1.0              \n",
            "dgoenrique/amazon-prime-movies-and-tv-shows                Amazon Prime Movies and TV Shows                 4MB  2023-03-13 18:50:21           1162         32  1.0              \n",
            "lamiatabassum/top-50-us-tech-companies-2022-2023-dataset   USA Tech Companies Stats                         2KB  2023-03-25 06:06:20           1483         43  1.0              \n",
            "nidzsharma/us-mass-shootings-19822023                      Gun Violence, USA                               31KB  2023-03-28 06:32:25            804         28  0.9411765        \n",
            "prathamsaraf1389/spotify-global-top-50-daily-update        Spotify Global Top 50 (Daily Update)             9MB  2023-04-13 22:09:01            754         33  1.0              \n",
            "edomingo/chatgpt-1000-daily-tweets                         #ChatGPT 1000 Daily 🐦 Tweets                     3MB  2023-04-13 22:39:27            396         31  1.0              \n",
            "usamabuttar/world-happiness-report-2005-present            World Happiness Report, 2005-Present           123KB  2023-03-25 17:38:26           1794         44  1.0              \n",
            "ivnlee/solar-energy-production                             Solar Energy Production                          3MB  2023-03-30 01:50:29            476         29  1.0              \n",
            "mehmettahiraslan/customer-shopping-dataset                 Customer Shopping Dataset - Retail Sales Data    2MB  2023-03-09 07:44:35           4695         91  1.0              \n"
          ]
        }
      ]
    },
    {
      "cell_type": "code",
      "source": [
        "!kaggle datasets download -d rmisra/news-category-dataset"
      ],
      "metadata": {
        "colab": {
          "base_uri": "https://localhost:8080/"
        },
        "id": "GUVfCcUYGhTj",
        "outputId": "1412277c-0ebf-47a1-c62a-2612b461e673"
      },
      "execution_count": null,
      "outputs": [
        {
          "output_type": "stream",
          "name": "stdout",
          "text": [
            "news-category-dataset.zip: Skipping, found more recently modified local copy (use --force to force download)\n"
          ]
        }
      ]
    },
    {
      "cell_type": "markdown",
      "source": [
        "If asked, if you want to replace the file, type y"
      ],
      "metadata": {
        "id": "TjmGRE49l8oZ"
      }
    },
    {
      "cell_type": "code",
      "source": [
        "!unzip *news-category-dataset.zip -d news-category-dataset"
      ],
      "metadata": {
        "colab": {
          "base_uri": "https://localhost:8080/"
        },
        "id": "yLKMCP4YGlO2",
        "outputId": "cad61042-be1d-438e-cfe2-be7f52ac7c4c"
      },
      "execution_count": null,
      "outputs": [
        {
          "output_type": "stream",
          "name": "stdout",
          "text": [
            "Archive:  news-category-dataset.zip\n",
            "replace news-category-dataset/News_Category_Dataset_v3.json? [y]es, [n]o, [A]ll, [N]one, [r]ename: y\n",
            "  inflating: news-category-dataset/News_Category_Dataset_v3.json  \n",
            "\n"
          ]
        }
      ]
    },
    {
      "cell_type": "code",
      "source": [
        "news_df = pd.read_json('news-category-dataset/News_Category_Dataset_v3.json', lines = True, nrows=2000)\n",
        "news_df.head()"
      ],
      "metadata": {
        "colab": {
          "base_uri": "https://localhost:8080/",
          "height": 337
        },
        "id": "TwA5EA0hGojh",
        "outputId": "314b07d4-2210-4f5b-f0fc-1268082f4deb"
      },
      "execution_count": null,
      "outputs": [
        {
          "output_type": "execute_result",
          "data": {
            "text/plain": [
              "                                                link  \\\n",
              "0  https://www.huffpost.com/entry/covid-boosters-...   \n",
              "1  https://www.huffpost.com/entry/american-airlin...   \n",
              "2  https://www.huffpost.com/entry/funniest-tweets...   \n",
              "3  https://www.huffpost.com/entry/funniest-parent...   \n",
              "4  https://www.huffpost.com/entry/amy-cooper-lose...   \n",
              "\n",
              "                                            headline   category  \\\n",
              "0  Over 4 Million Americans Roll Up Sleeves For O...  U.S. NEWS   \n",
              "1  American Airlines Flyer Charged, Banned For Li...  U.S. NEWS   \n",
              "2  23 Of The Funniest Tweets About Cats And Dogs ...     COMEDY   \n",
              "3  The Funniest Tweets From Parents This Week (Se...  PARENTING   \n",
              "4  Woman Who Called Cops On Black Bird-Watcher Lo...  U.S. NEWS   \n",
              "\n",
              "                                   short_description               authors  \\\n",
              "0  Health experts said it is too early to predict...  Carla K. Johnson, AP   \n",
              "1  He was subdued by passengers and crew when he ...        Mary Papenfuss   \n",
              "2  \"Until you have a dog you don't understand wha...         Elyse Wanshel   \n",
              "3  \"Accidentally put grown-up toothpaste on my to...      Caroline Bologna   \n",
              "4  Amy Cooper accused investment firm Franklin Te...        Nina Golgowski   \n",
              "\n",
              "        date  \n",
              "0 2022-09-23  \n",
              "1 2022-09-23  \n",
              "2 2022-09-23  \n",
              "3 2022-09-23  \n",
              "4 2022-09-22  "
            ],
            "text/html": [
              "\n",
              "  <div id=\"df-a9e209f4-02c3-4238-a3a0-766e832c5afc\">\n",
              "    <div class=\"colab-df-container\">\n",
              "      <div>\n",
              "<style scoped>\n",
              "    .dataframe tbody tr th:only-of-type {\n",
              "        vertical-align: middle;\n",
              "    }\n",
              "\n",
              "    .dataframe tbody tr th {\n",
              "        vertical-align: top;\n",
              "    }\n",
              "\n",
              "    .dataframe thead th {\n",
              "        text-align: right;\n",
              "    }\n",
              "</style>\n",
              "<table border=\"1\" class=\"dataframe\">\n",
              "  <thead>\n",
              "    <tr style=\"text-align: right;\">\n",
              "      <th></th>\n",
              "      <th>link</th>\n",
              "      <th>headline</th>\n",
              "      <th>category</th>\n",
              "      <th>short_description</th>\n",
              "      <th>authors</th>\n",
              "      <th>date</th>\n",
              "    </tr>\n",
              "  </thead>\n",
              "  <tbody>\n",
              "    <tr>\n",
              "      <th>0</th>\n",
              "      <td>https://www.huffpost.com/entry/covid-boosters-...</td>\n",
              "      <td>Over 4 Million Americans Roll Up Sleeves For O...</td>\n",
              "      <td>U.S. NEWS</td>\n",
              "      <td>Health experts said it is too early to predict...</td>\n",
              "      <td>Carla K. Johnson, AP</td>\n",
              "      <td>2022-09-23</td>\n",
              "    </tr>\n",
              "    <tr>\n",
              "      <th>1</th>\n",
              "      <td>https://www.huffpost.com/entry/american-airlin...</td>\n",
              "      <td>American Airlines Flyer Charged, Banned For Li...</td>\n",
              "      <td>U.S. NEWS</td>\n",
              "      <td>He was subdued by passengers and crew when he ...</td>\n",
              "      <td>Mary Papenfuss</td>\n",
              "      <td>2022-09-23</td>\n",
              "    </tr>\n",
              "    <tr>\n",
              "      <th>2</th>\n",
              "      <td>https://www.huffpost.com/entry/funniest-tweets...</td>\n",
              "      <td>23 Of The Funniest Tweets About Cats And Dogs ...</td>\n",
              "      <td>COMEDY</td>\n",
              "      <td>\"Until you have a dog you don't understand wha...</td>\n",
              "      <td>Elyse Wanshel</td>\n",
              "      <td>2022-09-23</td>\n",
              "    </tr>\n",
              "    <tr>\n",
              "      <th>3</th>\n",
              "      <td>https://www.huffpost.com/entry/funniest-parent...</td>\n",
              "      <td>The Funniest Tweets From Parents This Week (Se...</td>\n",
              "      <td>PARENTING</td>\n",
              "      <td>\"Accidentally put grown-up toothpaste on my to...</td>\n",
              "      <td>Caroline Bologna</td>\n",
              "      <td>2022-09-23</td>\n",
              "    </tr>\n",
              "    <tr>\n",
              "      <th>4</th>\n",
              "      <td>https://www.huffpost.com/entry/amy-cooper-lose...</td>\n",
              "      <td>Woman Who Called Cops On Black Bird-Watcher Lo...</td>\n",
              "      <td>U.S. NEWS</td>\n",
              "      <td>Amy Cooper accused investment firm Franklin Te...</td>\n",
              "      <td>Nina Golgowski</td>\n",
              "      <td>2022-09-22</td>\n",
              "    </tr>\n",
              "  </tbody>\n",
              "</table>\n",
              "</div>\n",
              "      <button class=\"colab-df-convert\" onclick=\"convertToInteractive('df-a9e209f4-02c3-4238-a3a0-766e832c5afc')\"\n",
              "              title=\"Convert this dataframe to an interactive table.\"\n",
              "              style=\"display:none;\">\n",
              "        \n",
              "  <svg xmlns=\"http://www.w3.org/2000/svg\" height=\"24px\"viewBox=\"0 0 24 24\"\n",
              "       width=\"24px\">\n",
              "    <path d=\"M0 0h24v24H0V0z\" fill=\"none\"/>\n",
              "    <path d=\"M18.56 5.44l.94 2.06.94-2.06 2.06-.94-2.06-.94-.94-2.06-.94 2.06-2.06.94zm-11 1L8.5 8.5l.94-2.06 2.06-.94-2.06-.94L8.5 2.5l-.94 2.06-2.06.94zm10 10l.94 2.06.94-2.06 2.06-.94-2.06-.94-.94-2.06-.94 2.06-2.06.94z\"/><path d=\"M17.41 7.96l-1.37-1.37c-.4-.4-.92-.59-1.43-.59-.52 0-1.04.2-1.43.59L10.3 9.45l-7.72 7.72c-.78.78-.78 2.05 0 2.83L4 21.41c.39.39.9.59 1.41.59.51 0 1.02-.2 1.41-.59l7.78-7.78 2.81-2.81c.8-.78.8-2.07 0-2.86zM5.41 20L4 18.59l7.72-7.72 1.47 1.35L5.41 20z\"/>\n",
              "  </svg>\n",
              "      </button>\n",
              "      \n",
              "  <style>\n",
              "    .colab-df-container {\n",
              "      display:flex;\n",
              "      flex-wrap:wrap;\n",
              "      gap: 12px;\n",
              "    }\n",
              "\n",
              "    .colab-df-convert {\n",
              "      background-color: #E8F0FE;\n",
              "      border: none;\n",
              "      border-radius: 50%;\n",
              "      cursor: pointer;\n",
              "      display: none;\n",
              "      fill: #1967D2;\n",
              "      height: 32px;\n",
              "      padding: 0 0 0 0;\n",
              "      width: 32px;\n",
              "    }\n",
              "\n",
              "    .colab-df-convert:hover {\n",
              "      background-color: #E2EBFA;\n",
              "      box-shadow: 0px 1px 2px rgba(60, 64, 67, 0.3), 0px 1px 3px 1px rgba(60, 64, 67, 0.15);\n",
              "      fill: #174EA6;\n",
              "    }\n",
              "\n",
              "    [theme=dark] .colab-df-convert {\n",
              "      background-color: #3B4455;\n",
              "      fill: #D2E3FC;\n",
              "    }\n",
              "\n",
              "    [theme=dark] .colab-df-convert:hover {\n",
              "      background-color: #434B5C;\n",
              "      box-shadow: 0px 1px 3px 1px rgba(0, 0, 0, 0.15);\n",
              "      filter: drop-shadow(0px 1px 2px rgba(0, 0, 0, 0.3));\n",
              "      fill: #FFFFFF;\n",
              "    }\n",
              "  </style>\n",
              "\n",
              "      <script>\n",
              "        const buttonEl =\n",
              "          document.querySelector('#df-a9e209f4-02c3-4238-a3a0-766e832c5afc button.colab-df-convert');\n",
              "        buttonEl.style.display =\n",
              "          google.colab.kernel.accessAllowed ? 'block' : 'none';\n",
              "\n",
              "        async function convertToInteractive(key) {\n",
              "          const element = document.querySelector('#df-a9e209f4-02c3-4238-a3a0-766e832c5afc');\n",
              "          const dataTable =\n",
              "            await google.colab.kernel.invokeFunction('convertToInteractive',\n",
              "                                                     [key], {});\n",
              "          if (!dataTable) return;\n",
              "\n",
              "          const docLinkHtml = 'Like what you see? Visit the ' +\n",
              "            '<a target=\"_blank\" href=https://colab.research.google.com/notebooks/data_table.ipynb>data table notebook</a>'\n",
              "            + ' to learn more about interactive tables.';\n",
              "          element.innerHTML = '';\n",
              "          dataTable['output_type'] = 'display_data';\n",
              "          await google.colab.output.renderOutput(dataTable, element);\n",
              "          const docLink = document.createElement('div');\n",
              "          docLink.innerHTML = docLinkHtml;\n",
              "          element.appendChild(docLink);\n",
              "        }\n",
              "      </script>\n",
              "    </div>\n",
              "  </div>\n",
              "  "
            ]
          },
          "metadata": {},
          "execution_count": 18
        }
      ]
    },
    {
      "cell_type": "code",
      "source": [
        "# Checking for blank links\n",
        "blank_links = news_df[news_df['link'].isnull()]\n",
        "\n",
        "if not blank_links.empty:\n",
        "    print(\"The following articles have blank links:\")\n",
        "    print(blank_links)\n",
        "else:\n",
        "    print(\"No articles have blank links.\")"
      ],
      "metadata": {
        "colab": {
          "base_uri": "https://localhost:8080/"
        },
        "id": "Fl4QCzhqnVRT",
        "outputId": "78a3ae0a-b4be-44d9-eebb-a4738daab1c8"
      },
      "execution_count": null,
      "outputs": [
        {
          "output_type": "stream",
          "name": "stdout",
          "text": [
            "No articles have blank links.\n"
          ]
        }
      ]
    },
    {
      "cell_type": "code",
      "source": [
        "news_df.head(50)"
      ],
      "metadata": {
        "colab": {
          "base_uri": "https://localhost:8080/",
          "height": 1000
        },
        "id": "dLKjEMfnoCdS",
        "outputId": "7907c8fa-1f8a-412f-b4fc-860fe2bd5597"
      },
      "execution_count": null,
      "outputs": [
        {
          "output_type": "execute_result",
          "data": {
            "text/plain": [
              "                                                 link  \\\n",
              "0   https://www.huffpost.com/entry/covid-boosters-...   \n",
              "1   https://www.huffpost.com/entry/american-airlin...   \n",
              "2   https://www.huffpost.com/entry/funniest-tweets...   \n",
              "3   https://www.huffpost.com/entry/funniest-parent...   \n",
              "4   https://www.huffpost.com/entry/amy-cooper-lose...   \n",
              "5   https://www.huffpost.com/entry/belk-worker-fou...   \n",
              "6   https://www.huffpost.com/entry/reporter-gets-a...   \n",
              "7   https://www.huffpost.com/entry/puerto-rico-wat...   \n",
              "8   https://www.huffpost.com/entry/mija-documentar...   \n",
              "9   https://www.huffpost.com/entry/biden-un-russia...   \n",
              "10  https://www.huffpost.com/entry/bc-soc-wcup-cap...   \n",
              "11  https://www.huffpost.com/entry/man-sets-fire-p...   \n",
              "12  https://www.huffpost.com/entry/fiona-threatens...   \n",
              "13  https://www.huffpost.com/entry/twitch-streamer...   \n",
              "14  https://www.huffpost.com/entry/virginia-thomas...   \n",
              "15  https://www.huffpost.com/entry/valery-polyakov...   \n",
              "16  https://www.huffpost.com/entry/hulu-reboot-sho...   \n",
              "17  https://www.huffpost.com/entry/dodgers-basebal...   \n",
              "18  https://www.huffpost.com/entry/russian-control...   \n",
              "19  https://www.huffpost.com/entry/hurricane-fiona...   \n",
              "20  https://www.huffpost.com/entry/golden-globes-r...   \n",
              "21  https://www.huffpost.com/entry/biden-us-forces...   \n",
              "22  https://www.huffpost.com/entry/hurricane-fiona...   \n",
              "23  https://www.huffpost.com/entry/national-champi...   \n",
              "24  https://www.huffpost.com/entry/ukraine-festiva...   \n",
              "25  https://www.huffpost.com/entry/mark-frerichs-r...   \n",
              "26  https://www.huffpost.com/entry/2022-wnba-final...   \n",
              "27  https://www.huffpost.com/entry/queen-elizabeth...   \n",
              "28  https://www.huffpost.com/entry/james-cameron-f...   \n",
              "29  https://www.huffpost.com/entry/french-spiderma...   \n",
              "30  https://www.huffpost.com/entry/europe-britain-...   \n",
              "31  https://www.huffpost.com/entry/2020-census-fal...   \n",
              "32  https://www.huffpost.com/entry/oil-gas-coal-re...   \n",
              "33  https://www.huffpost.com/entry/man-arrested-ex...   \n",
              "34  https://www.huffpost.com/entry/bc-us-alaska-co...   \n",
              "35  https://www.huffpost.com/entry/tropical-storm-...   \n",
              "36  https://www.huffpost.com/entry/bc-as-pakistan-...   \n",
              "37  https://www.huffpost.com/entry/jackson-water-c...   \n",
              "38  https://www.huffpost.com/entry/african-land-sn...   \n",
              "39  https://www.huffpost.com/entry/blade-runner-20...   \n",
              "40  https://www.huffpost.com/entry/afghan-adjustme...   \n",
              "41  https://www.huffpost.com/entry/birmingham-chur...   \n",
              "42  https://www.huffpost.com/entry/bc-us-water-woe...   \n",
              "43  https://www.huffpost.com/entry/the-phantom-of-...   \n",
              "44  https://www.huffpost.com/entry/capitol-riot-in...   \n",
              "45  https://www.huffpost.com/entry/alex-aster-ligh...   \n",
              "46  https://www.huffpost.com/entry/chick-fil-a-wor...   \n",
              "47  https://www.huffpost.com/entry/viola-davis-wom...   \n",
              "48  https://www.huffpost.com/entry/kim-kardashian-...   \n",
              "49  https://www.huffpost.com/entry/podcasters-offe...   \n",
              "\n",
              "                                             headline        category  \\\n",
              "0   Over 4 Million Americans Roll Up Sleeves For O...       U.S. NEWS   \n",
              "1   American Airlines Flyer Charged, Banned For Li...       U.S. NEWS   \n",
              "2   23 Of The Funniest Tweets About Cats And Dogs ...          COMEDY   \n",
              "3   The Funniest Tweets From Parents This Week (Se...       PARENTING   \n",
              "4   Woman Who Called Cops On Black Bird-Watcher Lo...       U.S. NEWS   \n",
              "5   Cleaner Was Dead In Belk Bathroom For 4 Days B...       U.S. NEWS   \n",
              "6   Reporter Gets Adorable Surprise From Her Boyfr...       U.S. NEWS   \n",
              "7   Puerto Ricans Desperate For Water After Hurric...      WORLD NEWS   \n",
              "8   How A New Documentary Captures The Complexity ...  CULTURE & ARTS   \n",
              "9   Biden At UN To Call Russian War An Affront To ...      WORLD NEWS   \n",
              "10  World Cup Captains Want To Wear Rainbow Armban...      WORLD NEWS   \n",
              "11  Man Sets Himself On Fire In Apparent Protest O...      WORLD NEWS   \n",
              "12  Fiona Threatens To Become Category 4 Storm Hea...      WORLD NEWS   \n",
              "13  Twitch Bans Gambling Sites After Streamer Scam...            TECH   \n",
              "14  Virginia Thomas Agrees To Interview With Jan. ...       U.S. NEWS   \n",
              "15  Russian Cosmonaut Valery Polyakov Who Broke Re...      WORLD NEWS   \n",
              "16  'Reboot' Is A Clever And Not Too Navel-Gazey L...  CULTURE & ARTS   \n",
              "17  Maury Wills, Base-Stealing Shortstop For Dodge...          SPORTS   \n",
              "18  4 Russian-Controlled Ukrainian Regions Schedul...      WORLD NEWS   \n",
              "19  Fiona Barrels Toward Turks And Caicos Islands ...      WORLD NEWS   \n",
              "20  Golden Globes Returning To NBC In January Afte...   ENTERTAINMENT   \n",
              "21  Biden Says U.S. Forces Would Defend Taiwan If ...        POLITICS   \n",
              "22  Hurricane Fiona Bears Down On Dominican Republ...      WORLD NEWS   \n",
              "23      One Dead After Plane Crashes At Reno Air Race       U.S. NEWS   \n",
              "24  ‘Beautiful And Sad At The Same Time’: Ukrainia...        POLITICS   \n",
              "25  Family Of American Held In Afghanistan Says He...       U.S. NEWS   \n",
              "26  Las Vegas Aces Win First WNBA Title, Chelsea G...          SPORTS   \n",
              "27   World Leaders Pay Respects To Queen Elizabeth II      WORLD NEWS   \n",
              "28  James Cameron Says He 'Clashed' With Studio Be...   ENTERTAINMENT   \n",
              "29  'French Spider-Man' Celebrates 60th Birthday W...      WEIRD NEWS   \n",
              "30  Biden Says Queen's Death Left 'Giant Hole' For...        POLITICS   \n",
              "31  Watchdog Report Finds Some Census Takers Who F...       U.S. NEWS   \n",
              "32  First Public Global Database Of Fossil Fuels L...     ENVIRONMENT   \n",
              "33  Man Charged With Exposing Himself To Mourners ...      WORLD NEWS   \n",
              "34  Alaska Prepares For 'Historic-Level' Storm Bar...     ENVIRONMENT   \n",
              "35  Puerto Rico Braces For Landslides And Severe F...     ENVIRONMENT   \n",
              "36  WHO Raises Alarm On Disease In Flood-hit Areas...      WORLD NEWS   \n",
              "37  Privatization Isn’t The Answer To Jackson’s Wa...     ENVIRONMENT   \n",
              "38  German Customs Officials Follow Trail Of Slime...      WEIRD NEWS   \n",
              "39  Amazon Greenlights 'Blade Runner 2099' Limited...   ENTERTAINMENT   \n",
              "40  Bill To Help Afghans Who Escaped Taliban Faces...        POLITICS   \n",
              "41  Alabama Sidesteps Compensation For Survivor Of...       U.S. NEWS   \n",
              "42  Racism Seen As Root Of Water Crisis In Mississ...       U.S. NEWS   \n",
              "43  'The Phantom Of The Opera' To Close On Broadwa...   ENTERTAINMENT   \n",
              "44  Mark Meadows Complies With Justice Dept. Subpo...        POLITICS   \n",
              "45  Meet Alex Aster, The TikToker Changing The Pub...  CULTURE & ARTS   \n",
              "46  Chick-Fil-A Worker Saves Woman With Baby From ...       U.S. NEWS   \n",
              "47  Viola Davis Feared A Heart Attack During 'The ...   ENTERTAINMENT   \n",
              "48  Kim Kardashian's Next Boyfriend Could Be A Bio...   ENTERTAINMENT   \n",
              "49  Podcasters Offer $100K Reward For Information ...   ENTERTAINMENT   \n",
              "\n",
              "                                    short_description  \\\n",
              "0   Health experts said it is too early to predict...   \n",
              "1   He was subdued by passengers and crew when he ...   \n",
              "2   \"Until you have a dog you don't understand wha...   \n",
              "3   \"Accidentally put grown-up toothpaste on my to...   \n",
              "4   Amy Cooper accused investment firm Franklin Te...   \n",
              "5   The 63-year-old woman was seen working at the ...   \n",
              "6   \"Who's that behind you?\" an anchor for New Yor...   \n",
              "7   More than half a million people remained witho...   \n",
              "8   In \"Mija,\" director Isabel Castro combined mus...   \n",
              "9   White House officials say the crux of the pres...   \n",
              "10  FIFA has come under pressure from several Euro...   \n",
              "11  The incident underscores a growing wave of pro...   \n",
              "12  Hurricane Fiona lashed the Turks and Caicos Is...   \n",
              "13  One man's claims that he scammed people on the...   \n",
              "14  Conservative activist Virginia Thomas, the wif...   \n",
              "15  Polyakov's record-breaking trip to outer space...   \n",
              "16  Starring Keegan-Michael Key, Judy Greer and Jo...   \n",
              "17  Maury Wills, who helped the Los Angeles Dodger...   \n",
              "18  The concerted and quickening Kremlin-backed ef...   \n",
              "19  The Turks and Caicos Islands government impose...   \n",
              "20  For the past 18 months, Hollywood has effectiv...   \n",
              "21  President issues vow as tensions with China rise.   \n",
              "22  The storm knocked out the power grid and unlea...   \n",
              "23  The single-engine plane was participating in t...   \n",
              "24  An annual celebration took on a different feel...   \n",
              "25  Mark Frerichs, a Navy veteran and civilian con...   \n",
              "26  Las Vegas never had a professional sports cham...   \n",
              "27  President Joe Biden and first lady Jill Biden ...   \n",
              "28  The \"Avatar\" director said aspects of his 2009...   \n",
              "29  Alain Robert, known as the \"French Spider-Man,...   \n",
              "30  U.S. President Joe Biden, in London for the fu...   \n",
              "31  Despite entering false information, their work...   \n",
              "32  On Monday, the world’s first public database o...   \n",
              "33  The 19-year-old reportedly fled into the Thame...   \n",
              "34  “In 10 years, people will be referring to the ...   \n",
              "35  Puerto Rico was under a hurricane watch Saturd...   \n",
              "36  The World Health Organization is raising the a...   \n",
              "37  Studies have repeatedly shown that ending publ...   \n",
              "38  “Never in the history of the Duesseldorf custo...   \n",
              "39  The director of the original 1982 film joins a...   \n",
              "40  Republican outrage over the shoddy U.S. withdr...   \n",
              "41  Sarah Collins Rudolph lost an eye and has piec...   \n",
              "42  A boil-water advisory has been lifted for Miss...   \n",
              "43  “The Phantom of the Opera” — Broadway’s longes...   \n",
              "44  The former White House chief of staff has turn...   \n",
              "45  The Colombian-American author's new book \"Ligh...   \n",
              "46  Mykel Gordon rushed to the woman's aid and hel...   \n",
              "47  The Oscar winner said she worked out for five ...   \n",
              "48  The reality star told James Corden she's branc...   \n",
              "49  The Las Vegas podcasters are hoping to find ou...   \n",
              "\n",
              "                                             authors       date  \n",
              "0                               Carla K. Johnson, AP 2022-09-23  \n",
              "1                                     Mary Papenfuss 2022-09-23  \n",
              "2                                      Elyse Wanshel 2022-09-23  \n",
              "3                                   Caroline Bologna 2022-09-23  \n",
              "4                                     Nina Golgowski 2022-09-22  \n",
              "5                                                    2022-09-22  \n",
              "6                                      Elyse Wanshel 2022-09-22  \n",
              "7                                    DÁNICA COTO, AP 2022-09-22  \n",
              "8                                        Marina Fang 2022-09-22  \n",
              "9                                  Aamer Madhani, AP 2022-09-21  \n",
              "10                                 GRAHAM DUNBAR, AP 2022-09-21  \n",
              "11                                Mari Yamaguchi, AP 2022-09-21  \n",
              "12                                   Dánica Coto, AP 2022-09-21  \n",
              "13                                      Ben Blanchet 2022-09-21  \n",
              "14           Eric Tucker and Mary Clare Jalonick, AP 2022-09-21  \n",
              "15                                 Marco Margaritoff 2022-09-20  \n",
              "16                 Marina Fang and Candice Frederick 2022-09-20  \n",
              "17                                   Beth Harris, AP 2022-09-20  \n",
              "18                                  Jon Gambrell, AP 2022-09-20  \n",
              "19                                   Dánica Coto, AP 2022-09-20  \n",
              "20                                                   2022-09-20  \n",
              "21                                                   2022-09-19  \n",
              "22                                   Danica Coto, AP 2022-09-19  \n",
              "23                                    Nina Golgowski 2022-09-19  \n",
              "24                                Jonathan Nicholson 2022-09-19  \n",
              "25                   Eric Tucker and Rahim Faiez, AP 2022-09-19  \n",
              "26                                Pat Eaton-Robb, AP 2022-09-19  \n",
              "27    Mike Corder, Jill Lawless and Danica Kirka, AP 2022-09-18  \n",
              "28                                      Ben Blanchet 2022-09-18  \n",
              "29                                      Ben Blanchet 2022-09-18  \n",
              "30                            Darlene Superville, AP 2022-09-18  \n",
              "31                                                   2022-09-18  \n",
              "32                                  Drew Costley, AP 2022-09-18  \n",
              "33                                    Mary Papenfuss 2022-09-17  \n",
              "34  BECKY BOHRER, MARK THIESSEN and JOHN ANTCZAK, AP 2022-09-17  \n",
              "35                                   DÁNICA COTO, AP 2022-09-17  \n",
              "36                                    ZARAR KHAN, AP 2022-09-17  \n",
              "37                                 Nathalie Baptiste 2022-09-17  \n",
              "38                                                   2022-09-16  \n",
              "39                                 Marco Margaritoff 2022-09-16  \n",
              "40                   Hamed Ahmadi and Arthur Delaney 2022-09-16  \n",
              "41                                    Jay Reeves, AP 2022-09-16  \n",
              "42                                  DREW COSTLEY, AP 2022-09-16  \n",
              "43                                  Mark Kennedy, AP 2022-09-16  \n",
              "44                                   ERIC TUCKER, AP 2022-09-15  \n",
              "45                               Marilyn La Jeunesse 2022-09-15  \n",
              "46                                 Marco Margaritoff 2022-09-15  \n",
              "47                                 Marco Margaritoff 2022-09-15  \n",
              "48                                        Ron Dicker 2022-09-15  \n",
              "49                                   Jazmin Tolliver 2022-09-15  "
            ],
            "text/html": [
              "\n",
              "  <div id=\"df-0397cbe1-3df6-49ff-b65d-57fb3351d331\">\n",
              "    <div class=\"colab-df-container\">\n",
              "      <div>\n",
              "<style scoped>\n",
              "    .dataframe tbody tr th:only-of-type {\n",
              "        vertical-align: middle;\n",
              "    }\n",
              "\n",
              "    .dataframe tbody tr th {\n",
              "        vertical-align: top;\n",
              "    }\n",
              "\n",
              "    .dataframe thead th {\n",
              "        text-align: right;\n",
              "    }\n",
              "</style>\n",
              "<table border=\"1\" class=\"dataframe\">\n",
              "  <thead>\n",
              "    <tr style=\"text-align: right;\">\n",
              "      <th></th>\n",
              "      <th>link</th>\n",
              "      <th>headline</th>\n",
              "      <th>category</th>\n",
              "      <th>short_description</th>\n",
              "      <th>authors</th>\n",
              "      <th>date</th>\n",
              "    </tr>\n",
              "  </thead>\n",
              "  <tbody>\n",
              "    <tr>\n",
              "      <th>0</th>\n",
              "      <td>https://www.huffpost.com/entry/covid-boosters-...</td>\n",
              "      <td>Over 4 Million Americans Roll Up Sleeves For O...</td>\n",
              "      <td>U.S. NEWS</td>\n",
              "      <td>Health experts said it is too early to predict...</td>\n",
              "      <td>Carla K. Johnson, AP</td>\n",
              "      <td>2022-09-23</td>\n",
              "    </tr>\n",
              "    <tr>\n",
              "      <th>1</th>\n",
              "      <td>https://www.huffpost.com/entry/american-airlin...</td>\n",
              "      <td>American Airlines Flyer Charged, Banned For Li...</td>\n",
              "      <td>U.S. NEWS</td>\n",
              "      <td>He was subdued by passengers and crew when he ...</td>\n",
              "      <td>Mary Papenfuss</td>\n",
              "      <td>2022-09-23</td>\n",
              "    </tr>\n",
              "    <tr>\n",
              "      <th>2</th>\n",
              "      <td>https://www.huffpost.com/entry/funniest-tweets...</td>\n",
              "      <td>23 Of The Funniest Tweets About Cats And Dogs ...</td>\n",
              "      <td>COMEDY</td>\n",
              "      <td>\"Until you have a dog you don't understand wha...</td>\n",
              "      <td>Elyse Wanshel</td>\n",
              "      <td>2022-09-23</td>\n",
              "    </tr>\n",
              "    <tr>\n",
              "      <th>3</th>\n",
              "      <td>https://www.huffpost.com/entry/funniest-parent...</td>\n",
              "      <td>The Funniest Tweets From Parents This Week (Se...</td>\n",
              "      <td>PARENTING</td>\n",
              "      <td>\"Accidentally put grown-up toothpaste on my to...</td>\n",
              "      <td>Caroline Bologna</td>\n",
              "      <td>2022-09-23</td>\n",
              "    </tr>\n",
              "    <tr>\n",
              "      <th>4</th>\n",
              "      <td>https://www.huffpost.com/entry/amy-cooper-lose...</td>\n",
              "      <td>Woman Who Called Cops On Black Bird-Watcher Lo...</td>\n",
              "      <td>U.S. NEWS</td>\n",
              "      <td>Amy Cooper accused investment firm Franklin Te...</td>\n",
              "      <td>Nina Golgowski</td>\n",
              "      <td>2022-09-22</td>\n",
              "    </tr>\n",
              "    <tr>\n",
              "      <th>5</th>\n",
              "      <td>https://www.huffpost.com/entry/belk-worker-fou...</td>\n",
              "      <td>Cleaner Was Dead In Belk Bathroom For 4 Days B...</td>\n",
              "      <td>U.S. NEWS</td>\n",
              "      <td>The 63-year-old woman was seen working at the ...</td>\n",
              "      <td></td>\n",
              "      <td>2022-09-22</td>\n",
              "    </tr>\n",
              "    <tr>\n",
              "      <th>6</th>\n",
              "      <td>https://www.huffpost.com/entry/reporter-gets-a...</td>\n",
              "      <td>Reporter Gets Adorable Surprise From Her Boyfr...</td>\n",
              "      <td>U.S. NEWS</td>\n",
              "      <td>\"Who's that behind you?\" an anchor for New Yor...</td>\n",
              "      <td>Elyse Wanshel</td>\n",
              "      <td>2022-09-22</td>\n",
              "    </tr>\n",
              "    <tr>\n",
              "      <th>7</th>\n",
              "      <td>https://www.huffpost.com/entry/puerto-rico-wat...</td>\n",
              "      <td>Puerto Ricans Desperate For Water After Hurric...</td>\n",
              "      <td>WORLD NEWS</td>\n",
              "      <td>More than half a million people remained witho...</td>\n",
              "      <td>DÁNICA COTO, AP</td>\n",
              "      <td>2022-09-22</td>\n",
              "    </tr>\n",
              "    <tr>\n",
              "      <th>8</th>\n",
              "      <td>https://www.huffpost.com/entry/mija-documentar...</td>\n",
              "      <td>How A New Documentary Captures The Complexity ...</td>\n",
              "      <td>CULTURE &amp; ARTS</td>\n",
              "      <td>In \"Mija,\" director Isabel Castro combined mus...</td>\n",
              "      <td>Marina Fang</td>\n",
              "      <td>2022-09-22</td>\n",
              "    </tr>\n",
              "    <tr>\n",
              "      <th>9</th>\n",
              "      <td>https://www.huffpost.com/entry/biden-un-russia...</td>\n",
              "      <td>Biden At UN To Call Russian War An Affront To ...</td>\n",
              "      <td>WORLD NEWS</td>\n",
              "      <td>White House officials say the crux of the pres...</td>\n",
              "      <td>Aamer Madhani, AP</td>\n",
              "      <td>2022-09-21</td>\n",
              "    </tr>\n",
              "    <tr>\n",
              "      <th>10</th>\n",
              "      <td>https://www.huffpost.com/entry/bc-soc-wcup-cap...</td>\n",
              "      <td>World Cup Captains Want To Wear Rainbow Armban...</td>\n",
              "      <td>WORLD NEWS</td>\n",
              "      <td>FIFA has come under pressure from several Euro...</td>\n",
              "      <td>GRAHAM DUNBAR, AP</td>\n",
              "      <td>2022-09-21</td>\n",
              "    </tr>\n",
              "    <tr>\n",
              "      <th>11</th>\n",
              "      <td>https://www.huffpost.com/entry/man-sets-fire-p...</td>\n",
              "      <td>Man Sets Himself On Fire In Apparent Protest O...</td>\n",
              "      <td>WORLD NEWS</td>\n",
              "      <td>The incident underscores a growing wave of pro...</td>\n",
              "      <td>Mari Yamaguchi, AP</td>\n",
              "      <td>2022-09-21</td>\n",
              "    </tr>\n",
              "    <tr>\n",
              "      <th>12</th>\n",
              "      <td>https://www.huffpost.com/entry/fiona-threatens...</td>\n",
              "      <td>Fiona Threatens To Become Category 4 Storm Hea...</td>\n",
              "      <td>WORLD NEWS</td>\n",
              "      <td>Hurricane Fiona lashed the Turks and Caicos Is...</td>\n",
              "      <td>Dánica Coto, AP</td>\n",
              "      <td>2022-09-21</td>\n",
              "    </tr>\n",
              "    <tr>\n",
              "      <th>13</th>\n",
              "      <td>https://www.huffpost.com/entry/twitch-streamer...</td>\n",
              "      <td>Twitch Bans Gambling Sites After Streamer Scam...</td>\n",
              "      <td>TECH</td>\n",
              "      <td>One man's claims that he scammed people on the...</td>\n",
              "      <td>Ben Blanchet</td>\n",
              "      <td>2022-09-21</td>\n",
              "    </tr>\n",
              "    <tr>\n",
              "      <th>14</th>\n",
              "      <td>https://www.huffpost.com/entry/virginia-thomas...</td>\n",
              "      <td>Virginia Thomas Agrees To Interview With Jan. ...</td>\n",
              "      <td>U.S. NEWS</td>\n",
              "      <td>Conservative activist Virginia Thomas, the wif...</td>\n",
              "      <td>Eric Tucker and Mary Clare Jalonick, AP</td>\n",
              "      <td>2022-09-21</td>\n",
              "    </tr>\n",
              "    <tr>\n",
              "      <th>15</th>\n",
              "      <td>https://www.huffpost.com/entry/valery-polyakov...</td>\n",
              "      <td>Russian Cosmonaut Valery Polyakov Who Broke Re...</td>\n",
              "      <td>WORLD NEWS</td>\n",
              "      <td>Polyakov's record-breaking trip to outer space...</td>\n",
              "      <td>Marco Margaritoff</td>\n",
              "      <td>2022-09-20</td>\n",
              "    </tr>\n",
              "    <tr>\n",
              "      <th>16</th>\n",
              "      <td>https://www.huffpost.com/entry/hulu-reboot-sho...</td>\n",
              "      <td>'Reboot' Is A Clever And Not Too Navel-Gazey L...</td>\n",
              "      <td>CULTURE &amp; ARTS</td>\n",
              "      <td>Starring Keegan-Michael Key, Judy Greer and Jo...</td>\n",
              "      <td>Marina Fang and Candice Frederick</td>\n",
              "      <td>2022-09-20</td>\n",
              "    </tr>\n",
              "    <tr>\n",
              "      <th>17</th>\n",
              "      <td>https://www.huffpost.com/entry/dodgers-basebal...</td>\n",
              "      <td>Maury Wills, Base-Stealing Shortstop For Dodge...</td>\n",
              "      <td>SPORTS</td>\n",
              "      <td>Maury Wills, who helped the Los Angeles Dodger...</td>\n",
              "      <td>Beth Harris, AP</td>\n",
              "      <td>2022-09-20</td>\n",
              "    </tr>\n",
              "    <tr>\n",
              "      <th>18</th>\n",
              "      <td>https://www.huffpost.com/entry/russian-control...</td>\n",
              "      <td>4 Russian-Controlled Ukrainian Regions Schedul...</td>\n",
              "      <td>WORLD NEWS</td>\n",
              "      <td>The concerted and quickening Kremlin-backed ef...</td>\n",
              "      <td>Jon Gambrell, AP</td>\n",
              "      <td>2022-09-20</td>\n",
              "    </tr>\n",
              "    <tr>\n",
              "      <th>19</th>\n",
              "      <td>https://www.huffpost.com/entry/hurricane-fiona...</td>\n",
              "      <td>Fiona Barrels Toward Turks And Caicos Islands ...</td>\n",
              "      <td>WORLD NEWS</td>\n",
              "      <td>The Turks and Caicos Islands government impose...</td>\n",
              "      <td>Dánica Coto, AP</td>\n",
              "      <td>2022-09-20</td>\n",
              "    </tr>\n",
              "    <tr>\n",
              "      <th>20</th>\n",
              "      <td>https://www.huffpost.com/entry/golden-globes-r...</td>\n",
              "      <td>Golden Globes Returning To NBC In January Afte...</td>\n",
              "      <td>ENTERTAINMENT</td>\n",
              "      <td>For the past 18 months, Hollywood has effectiv...</td>\n",
              "      <td></td>\n",
              "      <td>2022-09-20</td>\n",
              "    </tr>\n",
              "    <tr>\n",
              "      <th>21</th>\n",
              "      <td>https://www.huffpost.com/entry/biden-us-forces...</td>\n",
              "      <td>Biden Says U.S. Forces Would Defend Taiwan If ...</td>\n",
              "      <td>POLITICS</td>\n",
              "      <td>President issues vow as tensions with China rise.</td>\n",
              "      <td></td>\n",
              "      <td>2022-09-19</td>\n",
              "    </tr>\n",
              "    <tr>\n",
              "      <th>22</th>\n",
              "      <td>https://www.huffpost.com/entry/hurricane-fiona...</td>\n",
              "      <td>Hurricane Fiona Bears Down On Dominican Republ...</td>\n",
              "      <td>WORLD NEWS</td>\n",
              "      <td>The storm knocked out the power grid and unlea...</td>\n",
              "      <td>Danica Coto, AP</td>\n",
              "      <td>2022-09-19</td>\n",
              "    </tr>\n",
              "    <tr>\n",
              "      <th>23</th>\n",
              "      <td>https://www.huffpost.com/entry/national-champi...</td>\n",
              "      <td>One Dead After Plane Crashes At Reno Air Race</td>\n",
              "      <td>U.S. NEWS</td>\n",
              "      <td>The single-engine plane was participating in t...</td>\n",
              "      <td>Nina Golgowski</td>\n",
              "      <td>2022-09-19</td>\n",
              "    </tr>\n",
              "    <tr>\n",
              "      <th>24</th>\n",
              "      <td>https://www.huffpost.com/entry/ukraine-festiva...</td>\n",
              "      <td>‘Beautiful And Sad At The Same Time’: Ukrainia...</td>\n",
              "      <td>POLITICS</td>\n",
              "      <td>An annual celebration took on a different feel...</td>\n",
              "      <td>Jonathan Nicholson</td>\n",
              "      <td>2022-09-19</td>\n",
              "    </tr>\n",
              "    <tr>\n",
              "      <th>25</th>\n",
              "      <td>https://www.huffpost.com/entry/mark-frerichs-r...</td>\n",
              "      <td>Family Of American Held In Afghanistan Says He...</td>\n",
              "      <td>U.S. NEWS</td>\n",
              "      <td>Mark Frerichs, a Navy veteran and civilian con...</td>\n",
              "      <td>Eric Tucker and Rahim Faiez, AP</td>\n",
              "      <td>2022-09-19</td>\n",
              "    </tr>\n",
              "    <tr>\n",
              "      <th>26</th>\n",
              "      <td>https://www.huffpost.com/entry/2022-wnba-final...</td>\n",
              "      <td>Las Vegas Aces Win First WNBA Title, Chelsea G...</td>\n",
              "      <td>SPORTS</td>\n",
              "      <td>Las Vegas never had a professional sports cham...</td>\n",
              "      <td>Pat Eaton-Robb, AP</td>\n",
              "      <td>2022-09-19</td>\n",
              "    </tr>\n",
              "    <tr>\n",
              "      <th>27</th>\n",
              "      <td>https://www.huffpost.com/entry/queen-elizabeth...</td>\n",
              "      <td>World Leaders Pay Respects To Queen Elizabeth II</td>\n",
              "      <td>WORLD NEWS</td>\n",
              "      <td>President Joe Biden and first lady Jill Biden ...</td>\n",
              "      <td>Mike Corder, Jill Lawless and Danica Kirka, AP</td>\n",
              "      <td>2022-09-18</td>\n",
              "    </tr>\n",
              "    <tr>\n",
              "      <th>28</th>\n",
              "      <td>https://www.huffpost.com/entry/james-cameron-f...</td>\n",
              "      <td>James Cameron Says He 'Clashed' With Studio Be...</td>\n",
              "      <td>ENTERTAINMENT</td>\n",
              "      <td>The \"Avatar\" director said aspects of his 2009...</td>\n",
              "      <td>Ben Blanchet</td>\n",
              "      <td>2022-09-18</td>\n",
              "    </tr>\n",
              "    <tr>\n",
              "      <th>29</th>\n",
              "      <td>https://www.huffpost.com/entry/french-spiderma...</td>\n",
              "      <td>'French Spider-Man' Celebrates 60th Birthday W...</td>\n",
              "      <td>WEIRD NEWS</td>\n",
              "      <td>Alain Robert, known as the \"French Spider-Man,...</td>\n",
              "      <td>Ben Blanchet</td>\n",
              "      <td>2022-09-18</td>\n",
              "    </tr>\n",
              "    <tr>\n",
              "      <th>30</th>\n",
              "      <td>https://www.huffpost.com/entry/europe-britain-...</td>\n",
              "      <td>Biden Says Queen's Death Left 'Giant Hole' For...</td>\n",
              "      <td>POLITICS</td>\n",
              "      <td>U.S. President Joe Biden, in London for the fu...</td>\n",
              "      <td>Darlene Superville, AP</td>\n",
              "      <td>2022-09-18</td>\n",
              "    </tr>\n",
              "    <tr>\n",
              "      <th>31</th>\n",
              "      <td>https://www.huffpost.com/entry/2020-census-fal...</td>\n",
              "      <td>Watchdog Report Finds Some Census Takers Who F...</td>\n",
              "      <td>U.S. NEWS</td>\n",
              "      <td>Despite entering false information, their work...</td>\n",
              "      <td></td>\n",
              "      <td>2022-09-18</td>\n",
              "    </tr>\n",
              "    <tr>\n",
              "      <th>32</th>\n",
              "      <td>https://www.huffpost.com/entry/oil-gas-coal-re...</td>\n",
              "      <td>First Public Global Database Of Fossil Fuels L...</td>\n",
              "      <td>ENVIRONMENT</td>\n",
              "      <td>On Monday, the world’s first public database o...</td>\n",
              "      <td>Drew Costley, AP</td>\n",
              "      <td>2022-09-18</td>\n",
              "    </tr>\n",
              "    <tr>\n",
              "      <th>33</th>\n",
              "      <td>https://www.huffpost.com/entry/man-arrested-ex...</td>\n",
              "      <td>Man Charged With Exposing Himself To Mourners ...</td>\n",
              "      <td>WORLD NEWS</td>\n",
              "      <td>The 19-year-old reportedly fled into the Thame...</td>\n",
              "      <td>Mary Papenfuss</td>\n",
              "      <td>2022-09-17</td>\n",
              "    </tr>\n",
              "    <tr>\n",
              "      <th>34</th>\n",
              "      <td>https://www.huffpost.com/entry/bc-us-alaska-co...</td>\n",
              "      <td>Alaska Prepares For 'Historic-Level' Storm Bar...</td>\n",
              "      <td>ENVIRONMENT</td>\n",
              "      <td>“In 10 years, people will be referring to the ...</td>\n",
              "      <td>BECKY BOHRER, MARK THIESSEN and JOHN ANTCZAK, AP</td>\n",
              "      <td>2022-09-17</td>\n",
              "    </tr>\n",
              "    <tr>\n",
              "      <th>35</th>\n",
              "      <td>https://www.huffpost.com/entry/tropical-storm-...</td>\n",
              "      <td>Puerto Rico Braces For Landslides And Severe F...</td>\n",
              "      <td>ENVIRONMENT</td>\n",
              "      <td>Puerto Rico was under a hurricane watch Saturd...</td>\n",
              "      <td>DÁNICA COTO, AP</td>\n",
              "      <td>2022-09-17</td>\n",
              "    </tr>\n",
              "    <tr>\n",
              "      <th>36</th>\n",
              "      <td>https://www.huffpost.com/entry/bc-as-pakistan-...</td>\n",
              "      <td>WHO Raises Alarm On Disease In Flood-hit Areas...</td>\n",
              "      <td>WORLD NEWS</td>\n",
              "      <td>The World Health Organization is raising the a...</td>\n",
              "      <td>ZARAR KHAN, AP</td>\n",
              "      <td>2022-09-17</td>\n",
              "    </tr>\n",
              "    <tr>\n",
              "      <th>37</th>\n",
              "      <td>https://www.huffpost.com/entry/jackson-water-c...</td>\n",
              "      <td>Privatization Isn’t The Answer To Jackson’s Wa...</td>\n",
              "      <td>ENVIRONMENT</td>\n",
              "      <td>Studies have repeatedly shown that ending publ...</td>\n",
              "      <td>Nathalie Baptiste</td>\n",
              "      <td>2022-09-17</td>\n",
              "    </tr>\n",
              "    <tr>\n",
              "      <th>38</th>\n",
              "      <td>https://www.huffpost.com/entry/african-land-sn...</td>\n",
              "      <td>German Customs Officials Follow Trail Of Slime...</td>\n",
              "      <td>WEIRD NEWS</td>\n",
              "      <td>“Never in the history of the Duesseldorf custo...</td>\n",
              "      <td></td>\n",
              "      <td>2022-09-16</td>\n",
              "    </tr>\n",
              "    <tr>\n",
              "      <th>39</th>\n",
              "      <td>https://www.huffpost.com/entry/blade-runner-20...</td>\n",
              "      <td>Amazon Greenlights 'Blade Runner 2099' Limited...</td>\n",
              "      <td>ENTERTAINMENT</td>\n",
              "      <td>The director of the original 1982 film joins a...</td>\n",
              "      <td>Marco Margaritoff</td>\n",
              "      <td>2022-09-16</td>\n",
              "    </tr>\n",
              "    <tr>\n",
              "      <th>40</th>\n",
              "      <td>https://www.huffpost.com/entry/afghan-adjustme...</td>\n",
              "      <td>Bill To Help Afghans Who Escaped Taliban Faces...</td>\n",
              "      <td>POLITICS</td>\n",
              "      <td>Republican outrage over the shoddy U.S. withdr...</td>\n",
              "      <td>Hamed Ahmadi and Arthur Delaney</td>\n",
              "      <td>2022-09-16</td>\n",
              "    </tr>\n",
              "    <tr>\n",
              "      <th>41</th>\n",
              "      <td>https://www.huffpost.com/entry/birmingham-chur...</td>\n",
              "      <td>Alabama Sidesteps Compensation For Survivor Of...</td>\n",
              "      <td>U.S. NEWS</td>\n",
              "      <td>Sarah Collins Rudolph lost an eye and has piec...</td>\n",
              "      <td>Jay Reeves, AP</td>\n",
              "      <td>2022-09-16</td>\n",
              "    </tr>\n",
              "    <tr>\n",
              "      <th>42</th>\n",
              "      <td>https://www.huffpost.com/entry/bc-us-water-woe...</td>\n",
              "      <td>Racism Seen As Root Of Water Crisis In Mississ...</td>\n",
              "      <td>U.S. NEWS</td>\n",
              "      <td>A boil-water advisory has been lifted for Miss...</td>\n",
              "      <td>DREW COSTLEY, AP</td>\n",
              "      <td>2022-09-16</td>\n",
              "    </tr>\n",
              "    <tr>\n",
              "      <th>43</th>\n",
              "      <td>https://www.huffpost.com/entry/the-phantom-of-...</td>\n",
              "      <td>'The Phantom Of The Opera' To Close On Broadwa...</td>\n",
              "      <td>ENTERTAINMENT</td>\n",
              "      <td>“The Phantom of the Opera” — Broadway’s longes...</td>\n",
              "      <td>Mark Kennedy, AP</td>\n",
              "      <td>2022-09-16</td>\n",
              "    </tr>\n",
              "    <tr>\n",
              "      <th>44</th>\n",
              "      <td>https://www.huffpost.com/entry/capitol-riot-in...</td>\n",
              "      <td>Mark Meadows Complies With Justice Dept. Subpo...</td>\n",
              "      <td>POLITICS</td>\n",
              "      <td>The former White House chief of staff has turn...</td>\n",
              "      <td>ERIC TUCKER, AP</td>\n",
              "      <td>2022-09-15</td>\n",
              "    </tr>\n",
              "    <tr>\n",
              "      <th>45</th>\n",
              "      <td>https://www.huffpost.com/entry/alex-aster-ligh...</td>\n",
              "      <td>Meet Alex Aster, The TikToker Changing The Pub...</td>\n",
              "      <td>CULTURE &amp; ARTS</td>\n",
              "      <td>The Colombian-American author's new book \"Ligh...</td>\n",
              "      <td>Marilyn La Jeunesse</td>\n",
              "      <td>2022-09-15</td>\n",
              "    </tr>\n",
              "    <tr>\n",
              "      <th>46</th>\n",
              "      <td>https://www.huffpost.com/entry/chick-fil-a-wor...</td>\n",
              "      <td>Chick-Fil-A Worker Saves Woman With Baby From ...</td>\n",
              "      <td>U.S. NEWS</td>\n",
              "      <td>Mykel Gordon rushed to the woman's aid and hel...</td>\n",
              "      <td>Marco Margaritoff</td>\n",
              "      <td>2022-09-15</td>\n",
              "    </tr>\n",
              "    <tr>\n",
              "      <th>47</th>\n",
              "      <td>https://www.huffpost.com/entry/viola-davis-wom...</td>\n",
              "      <td>Viola Davis Feared A Heart Attack During 'The ...</td>\n",
              "      <td>ENTERTAINMENT</td>\n",
              "      <td>The Oscar winner said she worked out for five ...</td>\n",
              "      <td>Marco Margaritoff</td>\n",
              "      <td>2022-09-15</td>\n",
              "    </tr>\n",
              "    <tr>\n",
              "      <th>48</th>\n",
              "      <td>https://www.huffpost.com/entry/kim-kardashian-...</td>\n",
              "      <td>Kim Kardashian's Next Boyfriend Could Be A Bio...</td>\n",
              "      <td>ENTERTAINMENT</td>\n",
              "      <td>The reality star told James Corden she's branc...</td>\n",
              "      <td>Ron Dicker</td>\n",
              "      <td>2022-09-15</td>\n",
              "    </tr>\n",
              "    <tr>\n",
              "      <th>49</th>\n",
              "      <td>https://www.huffpost.com/entry/podcasters-offe...</td>\n",
              "      <td>Podcasters Offer $100K Reward For Information ...</td>\n",
              "      <td>ENTERTAINMENT</td>\n",
              "      <td>The Las Vegas podcasters are hoping to find ou...</td>\n",
              "      <td>Jazmin Tolliver</td>\n",
              "      <td>2022-09-15</td>\n",
              "    </tr>\n",
              "  </tbody>\n",
              "</table>\n",
              "</div>\n",
              "      <button class=\"colab-df-convert\" onclick=\"convertToInteractive('df-0397cbe1-3df6-49ff-b65d-57fb3351d331')\"\n",
              "              title=\"Convert this dataframe to an interactive table.\"\n",
              "              style=\"display:none;\">\n",
              "        \n",
              "  <svg xmlns=\"http://www.w3.org/2000/svg\" height=\"24px\"viewBox=\"0 0 24 24\"\n",
              "       width=\"24px\">\n",
              "    <path d=\"M0 0h24v24H0V0z\" fill=\"none\"/>\n",
              "    <path d=\"M18.56 5.44l.94 2.06.94-2.06 2.06-.94-2.06-.94-.94-2.06-.94 2.06-2.06.94zm-11 1L8.5 8.5l.94-2.06 2.06-.94-2.06-.94L8.5 2.5l-.94 2.06-2.06.94zm10 10l.94 2.06.94-2.06 2.06-.94-2.06-.94-.94-2.06-.94 2.06-2.06.94z\"/><path d=\"M17.41 7.96l-1.37-1.37c-.4-.4-.92-.59-1.43-.59-.52 0-1.04.2-1.43.59L10.3 9.45l-7.72 7.72c-.78.78-.78 2.05 0 2.83L4 21.41c.39.39.9.59 1.41.59.51 0 1.02-.2 1.41-.59l7.78-7.78 2.81-2.81c.8-.78.8-2.07 0-2.86zM5.41 20L4 18.59l7.72-7.72 1.47 1.35L5.41 20z\"/>\n",
              "  </svg>\n",
              "      </button>\n",
              "      \n",
              "  <style>\n",
              "    .colab-df-container {\n",
              "      display:flex;\n",
              "      flex-wrap:wrap;\n",
              "      gap: 12px;\n",
              "    }\n",
              "\n",
              "    .colab-df-convert {\n",
              "      background-color: #E8F0FE;\n",
              "      border: none;\n",
              "      border-radius: 50%;\n",
              "      cursor: pointer;\n",
              "      display: none;\n",
              "      fill: #1967D2;\n",
              "      height: 32px;\n",
              "      padding: 0 0 0 0;\n",
              "      width: 32px;\n",
              "    }\n",
              "\n",
              "    .colab-df-convert:hover {\n",
              "      background-color: #E2EBFA;\n",
              "      box-shadow: 0px 1px 2px rgba(60, 64, 67, 0.3), 0px 1px 3px 1px rgba(60, 64, 67, 0.15);\n",
              "      fill: #174EA6;\n",
              "    }\n",
              "\n",
              "    [theme=dark] .colab-df-convert {\n",
              "      background-color: #3B4455;\n",
              "      fill: #D2E3FC;\n",
              "    }\n",
              "\n",
              "    [theme=dark] .colab-df-convert:hover {\n",
              "      background-color: #434B5C;\n",
              "      box-shadow: 0px 1px 3px 1px rgba(0, 0, 0, 0.15);\n",
              "      filter: drop-shadow(0px 1px 2px rgba(0, 0, 0, 0.3));\n",
              "      fill: #FFFFFF;\n",
              "    }\n",
              "  </style>\n",
              "\n",
              "      <script>\n",
              "        const buttonEl =\n",
              "          document.querySelector('#df-0397cbe1-3df6-49ff-b65d-57fb3351d331 button.colab-df-convert');\n",
              "        buttonEl.style.display =\n",
              "          google.colab.kernel.accessAllowed ? 'block' : 'none';\n",
              "\n",
              "        async function convertToInteractive(key) {\n",
              "          const element = document.querySelector('#df-0397cbe1-3df6-49ff-b65d-57fb3351d331');\n",
              "          const dataTable =\n",
              "            await google.colab.kernel.invokeFunction('convertToInteractive',\n",
              "                                                     [key], {});\n",
              "          if (!dataTable) return;\n",
              "\n",
              "          const docLinkHtml = 'Like what you see? Visit the ' +\n",
              "            '<a target=\"_blank\" href=https://colab.research.google.com/notebooks/data_table.ipynb>data table notebook</a>'\n",
              "            + ' to learn more about interactive tables.';\n",
              "          element.innerHTML = '';\n",
              "          dataTable['output_type'] = 'display_data';\n",
              "          await google.colab.output.renderOutput(dataTable, element);\n",
              "          const docLink = document.createElement('div');\n",
              "          docLink.innerHTML = docLinkHtml;\n",
              "          element.appendChild(docLink);\n",
              "        }\n",
              "      </script>\n",
              "    </div>\n",
              "  </div>\n",
              "  "
            ]
          },
          "metadata": {},
          "execution_count": 20
        }
      ]
    },
    {
      "cell_type": "code",
      "source": [
        "# Remove duplicates and combine headline and short_description columns\n",
        "df = news_df.drop_duplicates()\n",
        "text_columns = ['headline', 'short_description']\n",
        "df['combined'] = df[text_columns].apply(lambda row: '_'.join(row.values.astype(str)), axis=1)"
      ],
      "metadata": {
        "id": "EbsBKCKgH3fk"
      },
      "execution_count": null,
      "outputs": []
    },
    {
      "cell_type": "markdown",
      "source": [
        "##Preprocessing text data using NLTK"
      ],
      "metadata": {
        "id": "97iXql8l0a84"
      }
    },
    {
      "cell_type": "code",
      "source": [
        "# Preprocess the text by removing stop words, punctuations and non-english words\n",
        "words = set(nltk.corpus.words.words())\n",
        "def preprocess_text(text):\n",
        "    separator = \" \"\n",
        "    text = text.lower()\n",
        "    text = re.sub(r'[^\\w\\s]', '', text)\n",
        "    text = \" \".join(w for w in nltk.wordpunct_tokenize(text) \\\n",
        "         if w.lower() in words or not w.isalpha())\n",
        "    stop_words = set(stopwords.words('english'))\n",
        "    word_tokens = word_tokenize(text)\n",
        "    filtered = [w for w in word_tokens if not w.lower() in stop_words]\n",
        "    com = separator.join(filtered)\n",
        "    return com"
      ],
      "metadata": {
        "id": "CVxMEMq1KKjS"
      },
      "execution_count": null,
      "outputs": []
    },
    {
      "cell_type": "markdown",
      "source": [
        "##Creating a corpus for news articles"
      ],
      "metadata": {
        "id": "E7J3RR2CsG62"
      }
    },
    {
      "cell_type": "code",
      "source": [
        "def get_news_corpus():\n",
        "    \"\"\"\n",
        "    This function downloads the news category dataset from Kaggle and returns\n",
        "    a preprocessed corpus containing the news headlines, article descriptions,\n",
        "    categories, and the length of each news article.\n",
        "    \"\"\"\n",
        "\n",
        "    # preprocess the text data\n",
        "    #df['headline'] = df['headline'].apply(preprocess_text)\n",
        "    #df['short_description'] = df['short_description'].apply(preprocess_text)\n",
        "    df['category'] = df['category'].apply(preprocess_text)\n",
        "    #df['link'] = df['link'].apply(preprocess_text)\n",
        "    df['combined'] = df['combined'].apply(preprocess_text)\n",
        "\n",
        "    # create a corpus of news articles\n",
        "    corpus = []\n",
        "    for index, row in df.iterrows():\n",
        "        article_id = index\n",
        "        headline = row['headline']\n",
        "        link = row['link']\n",
        "        short_description = row['short_description']\n",
        "        #article_len = len(headline.split() + desc.split())\n",
        "        corpus.append((article_id, headline, link, short_description))\n",
        "\n",
        "    return corpus"
      ],
      "metadata": {
        "id": "-gf9NmEtKcmF"
      },
      "execution_count": null,
      "outputs": []
    },
    {
      "cell_type": "code",
      "source": [
        "corpus = get_news_corpus()"
      ],
      "metadata": {
        "id": "1j5PL3dTKoZL"
      },
      "execution_count": null,
      "outputs": []
    },
    {
      "cell_type": "code",
      "source": [
        "df['headline'] = df['headline'].apply(preprocess_text)\n",
        "#df['short_description'] = df['short_description'].apply(preprocess_text)\n",
        "#df['category'] = df['category'].apply(preprocess_text)\n",
        "#df['link'] = df['link'].apply(preprocess_text)\n",
        "#df['combined'] = df['combined'].apply(preprocess_text)"
      ],
      "metadata": {
        "id": "cza0v7RX4QIe"
      },
      "execution_count": null,
      "outputs": []
    },
    {
      "cell_type": "code",
      "source": [
        "# Split dataset\n",
        "dtf_train, dtf_test = model_selection.train_test_split(df, test_size=0.3)\n",
        "# Get target\n",
        "y_train = dtf_train[\"category\"].values\n",
        "y_test = dtf_test[\"category\"].values"
      ],
      "metadata": {
        "id": "RMg4f0ZuJ2qQ"
      },
      "execution_count": null,
      "outputs": []
    },
    {
      "cell_type": "code",
      "source": [
        "# vectorizer = feature_extraction.text.TfidfVectorizer(vocabulary=X_names)\n",
        "# #vectorizer.fit(cor)\n",
        "# X_train = vectorizer.transform(cor)\n",
        "# dic_vocabulary = vectorizer.vocabulary_"
      ],
      "metadata": {
        "id": "NYFOJbBsK1qo"
      },
      "execution_count": null,
      "outputs": []
    },
    {
      "cell_type": "code",
      "source": [
        "# # pipeline\n",
        "# model = pipeline.Pipeline([(\"vectorizer\", vectorizer),\n",
        "#                            (\"classifier\", classifier)])\n",
        "# ## train classifier\n",
        "# model[\"classifier\"].fit(X_train, y_train)\n",
        "# ## test\n",
        "# X_test = dtf_test[\"text_clean\"].values\n",
        "# predicted = model.predict(X_test)\n",
        "# predicted_prob = model.predict_proba(X_test)"
      ],
      "metadata": {
        "id": "U_TMrn3gLRHG"
      },
      "execution_count": null,
      "outputs": []
    },
    {
      "cell_type": "markdown",
      "source": [
        "# Machine Learning - Knn"
      ],
      "metadata": {
        "id": "959xMvKd3U0g"
      }
    },
    {
      "cell_type": "code",
      "source": [
        "df.shape"
      ],
      "metadata": {
        "colab": {
          "base_uri": "https://localhost:8080/"
        },
        "id": "STUj0Z5s4sKJ",
        "outputId": "2442a19b-dc48-4c20-ced7-61a8e3106907"
      },
      "execution_count": null,
      "outputs": [
        {
          "output_type": "execute_result",
          "data": {
            "text/plain": [
              "(2000, 7)"
            ]
          },
          "metadata": {},
          "execution_count": 29
        }
      ]
    },
    {
      "cell_type": "code",
      "source": [
        "# Associate Category names with numerical index and save it in new column CategoryId\n",
        "target_category = df['category'].unique()\n",
        "print(target_category)"
      ],
      "metadata": {
        "colab": {
          "base_uri": "https://localhost:8080/"
        },
        "id": "Yi4nSjwp4_rR",
        "outputId": "00f1714d-d510-4324-acf0-166c76bb82fb"
      },
      "execution_count": null,
      "outputs": [
        {
          "output_type": "stream",
          "name": "stdout",
          "text": [
            "['us news' 'comedy' '' 'world news' 'culture' 'tech' 'sports'\n",
            " 'entertainment' 'politics' 'weird news' 'environment' 'education' 'crime'\n",
            " 'science' 'wellness' 'business' 'style beauty' 'food drink' 'media'\n",
            " 'queer' 'home living' 'black' 'travel' 'money' 'religion']\n"
          ]
        }
      ]
    },
    {
      "cell_type": "code",
      "source": [
        "df['CategoryId'] = df['category'].factorize()[0]\n",
        "#df.head()"
      ],
      "metadata": {
        "id": "QQunKRgp4_1n"
      },
      "execution_count": null,
      "outputs": []
    },
    {
      "cell_type": "code",
      "source": [
        "# Create a new pandas dataframe \"category\", which only has unique Categories, also sorting this list in order of CategoryId values\n",
        "Category = df[['category', 'CategoryId']].drop_duplicates().sort_values('CategoryId')\n",
        "Category"
      ],
      "metadata": {
        "colab": {
          "base_uri": "https://localhost:8080/",
          "height": 833
        },
        "id": "hJ_6YMqT4__5",
        "outputId": "ea88f863-50f7-46f2-b647-dfdaf003f90d"
      },
      "execution_count": null,
      "outputs": [
        {
          "output_type": "execute_result",
          "data": {
            "text/plain": [
              "           category  CategoryId\n",
              "0           us news           0\n",
              "2            comedy           1\n",
              "3                             2\n",
              "7        world news           3\n",
              "8           culture           4\n",
              "13             tech           5\n",
              "17           sports           6\n",
              "20    entertainment           7\n",
              "21         politics           8\n",
              "29       weird news           9\n",
              "32      environment          10\n",
              "94        education          11\n",
              "107           crime          12\n",
              "114         science          13\n",
              "134        wellness          14\n",
              "162        business          15\n",
              "260    style beauty          16\n",
              "280      food drink          17\n",
              "319           media          18\n",
              "340           queer          19\n",
              "394     home living          20\n",
              "455           black          21\n",
              "892          travel          22\n",
              "1796          money          23\n",
              "1861       religion          24"
            ],
            "text/html": [
              "\n",
              "  <div id=\"df-686faa55-5c02-4561-a610-cae44973b56b\">\n",
              "    <div class=\"colab-df-container\">\n",
              "      <div>\n",
              "<style scoped>\n",
              "    .dataframe tbody tr th:only-of-type {\n",
              "        vertical-align: middle;\n",
              "    }\n",
              "\n",
              "    .dataframe tbody tr th {\n",
              "        vertical-align: top;\n",
              "    }\n",
              "\n",
              "    .dataframe thead th {\n",
              "        text-align: right;\n",
              "    }\n",
              "</style>\n",
              "<table border=\"1\" class=\"dataframe\">\n",
              "  <thead>\n",
              "    <tr style=\"text-align: right;\">\n",
              "      <th></th>\n",
              "      <th>category</th>\n",
              "      <th>CategoryId</th>\n",
              "    </tr>\n",
              "  </thead>\n",
              "  <tbody>\n",
              "    <tr>\n",
              "      <th>0</th>\n",
              "      <td>us news</td>\n",
              "      <td>0</td>\n",
              "    </tr>\n",
              "    <tr>\n",
              "      <th>2</th>\n",
              "      <td>comedy</td>\n",
              "      <td>1</td>\n",
              "    </tr>\n",
              "    <tr>\n",
              "      <th>3</th>\n",
              "      <td></td>\n",
              "      <td>2</td>\n",
              "    </tr>\n",
              "    <tr>\n",
              "      <th>7</th>\n",
              "      <td>world news</td>\n",
              "      <td>3</td>\n",
              "    </tr>\n",
              "    <tr>\n",
              "      <th>8</th>\n",
              "      <td>culture</td>\n",
              "      <td>4</td>\n",
              "    </tr>\n",
              "    <tr>\n",
              "      <th>13</th>\n",
              "      <td>tech</td>\n",
              "      <td>5</td>\n",
              "    </tr>\n",
              "    <tr>\n",
              "      <th>17</th>\n",
              "      <td>sports</td>\n",
              "      <td>6</td>\n",
              "    </tr>\n",
              "    <tr>\n",
              "      <th>20</th>\n",
              "      <td>entertainment</td>\n",
              "      <td>7</td>\n",
              "    </tr>\n",
              "    <tr>\n",
              "      <th>21</th>\n",
              "      <td>politics</td>\n",
              "      <td>8</td>\n",
              "    </tr>\n",
              "    <tr>\n",
              "      <th>29</th>\n",
              "      <td>weird news</td>\n",
              "      <td>9</td>\n",
              "    </tr>\n",
              "    <tr>\n",
              "      <th>32</th>\n",
              "      <td>environment</td>\n",
              "      <td>10</td>\n",
              "    </tr>\n",
              "    <tr>\n",
              "      <th>94</th>\n",
              "      <td>education</td>\n",
              "      <td>11</td>\n",
              "    </tr>\n",
              "    <tr>\n",
              "      <th>107</th>\n",
              "      <td>crime</td>\n",
              "      <td>12</td>\n",
              "    </tr>\n",
              "    <tr>\n",
              "      <th>114</th>\n",
              "      <td>science</td>\n",
              "      <td>13</td>\n",
              "    </tr>\n",
              "    <tr>\n",
              "      <th>134</th>\n",
              "      <td>wellness</td>\n",
              "      <td>14</td>\n",
              "    </tr>\n",
              "    <tr>\n",
              "      <th>162</th>\n",
              "      <td>business</td>\n",
              "      <td>15</td>\n",
              "    </tr>\n",
              "    <tr>\n",
              "      <th>260</th>\n",
              "      <td>style beauty</td>\n",
              "      <td>16</td>\n",
              "    </tr>\n",
              "    <tr>\n",
              "      <th>280</th>\n",
              "      <td>food drink</td>\n",
              "      <td>17</td>\n",
              "    </tr>\n",
              "    <tr>\n",
              "      <th>319</th>\n",
              "      <td>media</td>\n",
              "      <td>18</td>\n",
              "    </tr>\n",
              "    <tr>\n",
              "      <th>340</th>\n",
              "      <td>queer</td>\n",
              "      <td>19</td>\n",
              "    </tr>\n",
              "    <tr>\n",
              "      <th>394</th>\n",
              "      <td>home living</td>\n",
              "      <td>20</td>\n",
              "    </tr>\n",
              "    <tr>\n",
              "      <th>455</th>\n",
              "      <td>black</td>\n",
              "      <td>21</td>\n",
              "    </tr>\n",
              "    <tr>\n",
              "      <th>892</th>\n",
              "      <td>travel</td>\n",
              "      <td>22</td>\n",
              "    </tr>\n",
              "    <tr>\n",
              "      <th>1796</th>\n",
              "      <td>money</td>\n",
              "      <td>23</td>\n",
              "    </tr>\n",
              "    <tr>\n",
              "      <th>1861</th>\n",
              "      <td>religion</td>\n",
              "      <td>24</td>\n",
              "    </tr>\n",
              "  </tbody>\n",
              "</table>\n",
              "</div>\n",
              "      <button class=\"colab-df-convert\" onclick=\"convertToInteractive('df-686faa55-5c02-4561-a610-cae44973b56b')\"\n",
              "              title=\"Convert this dataframe to an interactive table.\"\n",
              "              style=\"display:none;\">\n",
              "        \n",
              "  <svg xmlns=\"http://www.w3.org/2000/svg\" height=\"24px\"viewBox=\"0 0 24 24\"\n",
              "       width=\"24px\">\n",
              "    <path d=\"M0 0h24v24H0V0z\" fill=\"none\"/>\n",
              "    <path d=\"M18.56 5.44l.94 2.06.94-2.06 2.06-.94-2.06-.94-.94-2.06-.94 2.06-2.06.94zm-11 1L8.5 8.5l.94-2.06 2.06-.94-2.06-.94L8.5 2.5l-.94 2.06-2.06.94zm10 10l.94 2.06.94-2.06 2.06-.94-2.06-.94-.94-2.06-.94 2.06-2.06.94z\"/><path d=\"M17.41 7.96l-1.37-1.37c-.4-.4-.92-.59-1.43-.59-.52 0-1.04.2-1.43.59L10.3 9.45l-7.72 7.72c-.78.78-.78 2.05 0 2.83L4 21.41c.39.39.9.59 1.41.59.51 0 1.02-.2 1.41-.59l7.78-7.78 2.81-2.81c.8-.78.8-2.07 0-2.86zM5.41 20L4 18.59l7.72-7.72 1.47 1.35L5.41 20z\"/>\n",
              "  </svg>\n",
              "      </button>\n",
              "      \n",
              "  <style>\n",
              "    .colab-df-container {\n",
              "      display:flex;\n",
              "      flex-wrap:wrap;\n",
              "      gap: 12px;\n",
              "    }\n",
              "\n",
              "    .colab-df-convert {\n",
              "      background-color: #E8F0FE;\n",
              "      border: none;\n",
              "      border-radius: 50%;\n",
              "      cursor: pointer;\n",
              "      display: none;\n",
              "      fill: #1967D2;\n",
              "      height: 32px;\n",
              "      padding: 0 0 0 0;\n",
              "      width: 32px;\n",
              "    }\n",
              "\n",
              "    .colab-df-convert:hover {\n",
              "      background-color: #E2EBFA;\n",
              "      box-shadow: 0px 1px 2px rgba(60, 64, 67, 0.3), 0px 1px 3px 1px rgba(60, 64, 67, 0.15);\n",
              "      fill: #174EA6;\n",
              "    }\n",
              "\n",
              "    [theme=dark] .colab-df-convert {\n",
              "      background-color: #3B4455;\n",
              "      fill: #D2E3FC;\n",
              "    }\n",
              "\n",
              "    [theme=dark] .colab-df-convert:hover {\n",
              "      background-color: #434B5C;\n",
              "      box-shadow: 0px 1px 3px 1px rgba(0, 0, 0, 0.15);\n",
              "      filter: drop-shadow(0px 1px 2px rgba(0, 0, 0, 0.3));\n",
              "      fill: #FFFFFF;\n",
              "    }\n",
              "  </style>\n",
              "\n",
              "      <script>\n",
              "        const buttonEl =\n",
              "          document.querySelector('#df-686faa55-5c02-4561-a610-cae44973b56b button.colab-df-convert');\n",
              "        buttonEl.style.display =\n",
              "          google.colab.kernel.accessAllowed ? 'block' : 'none';\n",
              "\n",
              "        async function convertToInteractive(key) {\n",
              "          const element = document.querySelector('#df-686faa55-5c02-4561-a610-cae44973b56b');\n",
              "          const dataTable =\n",
              "            await google.colab.kernel.invokeFunction('convertToInteractive',\n",
              "                                                     [key], {});\n",
              "          if (!dataTable) return;\n",
              "\n",
              "          const docLinkHtml = 'Like what you see? Visit the ' +\n",
              "            '<a target=\"_blank\" href=https://colab.research.google.com/notebooks/data_table.ipynb>data table notebook</a>'\n",
              "            + ' to learn more about interactive tables.';\n",
              "          element.innerHTML = '';\n",
              "          dataTable['output_type'] = 'display_data';\n",
              "          await google.colab.output.renderOutput(dataTable, element);\n",
              "          const docLink = document.createElement('div');\n",
              "          docLink.innerHTML = docLinkHtml;\n",
              "          element.appendChild(docLink);\n",
              "        }\n",
              "      </script>\n",
              "    </div>\n",
              "  </div>\n",
              "  "
            ]
          },
          "metadata": {},
          "execution_count": 32
        }
      ]
    },
    {
      "cell_type": "markdown",
      "source": [
        "## Building a text classification model using Scikit-Learn"
      ],
      "metadata": {
        "id": "aVDoULHmscr_"
      }
    },
    {
      "cell_type": "code",
      "source": [
        "from sklearn.feature_extraction.text import CountVectorizer\n",
        "x = np.array(df.iloc[:,0].values)\n",
        "y = np.array(df.CategoryId.values)\n",
        "cv = CountVectorizer(max_features = 5000)\n",
        "x = cv.fit_transform(df.combined).toarray()\n",
        "print(\"X.shape = \",x.shape)\n",
        "print(\"y.shape = \",y.shape)"
      ],
      "metadata": {
        "colab": {
          "base_uri": "https://localhost:8080/"
        },
        "id": "dq2cJXIC6J_k",
        "outputId": "7843d00d-b6b3-488f-fbc5-caec948f460d"
      },
      "execution_count": null,
      "outputs": [
        {
          "output_type": "stream",
          "name": "stdout",
          "text": [
            "X.shape =  (2000, 5000)\n",
            "y.shape =  (2000,)\n"
          ]
        }
      ]
    },
    {
      "cell_type": "code",
      "source": [
        "x_train, x_test, y_train, y_test = train_test_split(x, y, test_size = 0.3, random_state = 0, shuffle = True)\n",
        "print(len(x_train))\n",
        "print(len(x_test))"
      ],
      "metadata": {
        "colab": {
          "base_uri": "https://localhost:8080/"
        },
        "id": "qLXvQ8Lv64zG",
        "outputId": "e2f63524-ef9f-421a-82f5-0dd6054d6c76"
      },
      "execution_count": null,
      "outputs": [
        {
          "output_type": "stream",
          "name": "stdout",
          "text": [
            "1400\n",
            "600\n"
          ]
        }
      ]
    },
    {
      "cell_type": "code",
      "source": [
        "# from sklearn.metrics import precision_recall_fscore_support as score\n",
        "# from sklearn.multiclass import OneVsRestClassifier\n",
        "# def run_model(model_name, est_c, est_pnlty):\n",
        "#     mdl = KNeighborsClassifier(n_neighbors=15 , metric= 'minkowski' , p = 4)\n",
        "#     # Performance metrics\n",
        "#     oneVsRest = OneVsRestClassifier(mdl)\n",
        "#     oneVsRest.fit(x_train, y_train)\n",
        "#     y_pred = oneVsRest.predict(x_test)\n",
        "#     accuracy = round(accuracy_score(y_test, y_pred) * 100, 2)\n",
        "\n",
        "#     # Get precision, recall, f1 scores\n",
        "\n",
        "#     precision, recall, f1score, support = score(y_test, y_pred, average='micro')\n",
        "\n",
        "#     print(f'Test Accuracy Score of Basic {model_name}: % {accuracy}')\n",
        "\n",
        "#     print(f'Precision : {precision}')\n",
        "\n",
        "#     print(f'Recall : {recall}')\n",
        "\n",
        "#     print(f'F1-score : {f1score}')\n",
        "\n",
        "# run_model('K Nearest Neighbour', est_c=None, est_pnlty=None)"
      ],
      "metadata": {
        "id": "Q4fOpEvg7EoS"
      },
      "execution_count": null,
      "outputs": []
    },
    {
      "cell_type": "code",
      "source": [
        "#corpus"
      ],
      "metadata": {
        "id": "AbBSlbQBHfn8"
      },
      "execution_count": null,
      "outputs": []
    },
    {
      "cell_type": "code",
      "source": [
        "import http\n",
        "# Mappings are used to define what kind of structure your data has.\n",
        "# Here an explicit mapping is used:\n",
        "# https://www.elastic.co/guide/en/elasticsearch/reference/current/explicit-mapping.html\n",
        "\n",
        "# The mapping is used when creating the index through the request body:\n",
        "\n",
        "request_body = {\n",
        "    'settings': {\n",
        "        'number_of_shards': 1,\n",
        "        'number_of_replicas': 1\n",
        "    },\n",
        "    'mappings': {\n",
        "        'properties': {\n",
        "            'article_id': {'type': 'integer'},\n",
        "            'headline': {'type': 'keyword'},\n",
        "            'link': {'type': 'text'},\n",
        "            'short_description': {'type': 'text'}\n",
        "        }\n",
        "    }\n",
        "}\n",
        "\n",
        "\n",
        "index_name = 'news'\n",
        "try:\n",
        "  es.indices.get(index_name)\n",
        "  print('index {} already exists'.format(index_name))\n",
        "except:\n",
        "  print('creating index {}'.format(index_name))\n",
        "  es.indices.create(index_name, body=request_body)"
      ],
      "metadata": {
        "colab": {
          "base_uri": "https://localhost:8080/"
        },
        "id": "rSeNZgPjN6db",
        "outputId": "eb88b78a-ce07-4dbe-952a-9f6db55de924"
      },
      "execution_count": null,
      "outputs": [
        {
          "output_type": "stream",
          "name": "stdout",
          "text": [
            "index news already exists\n"
          ]
        }
      ]
    },
    {
      "cell_type": "code",
      "source": [
        "# Now what we want to do is to put some data into the index, i.e. index it:\n",
        "for article_id, headline, link, short_description in corpus:\n",
        "  doc_body = {\n",
        "      'article_id': article_id,\n",
        "      'headline': headline,\n",
        "      'link': link,\n",
        "      'short_description': short_description\n",
        "  }\n",
        "  es.index(index_name, doc_body)"
      ],
      "metadata": {
        "id": "oN2zthcHSHZX"
      },
      "execution_count": null,
      "outputs": []
    },
    {
      "cell_type": "code",
      "source": [
        "# Define a function to retrieve and print information about an Elasticsearch index\n",
        "def index_info(index_name):\n",
        "  count, deleted, shards, =  es.cat.indices(index=index_name,\n",
        "                                            h=['docs.count', 'docs.deleted', 'pri'])[:-1].split(' ')\n",
        "  # Print the index information using a multi-line formatted string\n",
        "  print(\n",
        "      \"\"\"\n",
        "      #### INDEX INFO #####\n",
        "      index_name = {}\n",
        "      doc_count = {}\n",
        "      shard_count = {}\n",
        "      deleted_doc_count = {}\n",
        "      \"\"\".format(index_name, count, shards, deleted)\n",
        "  )\n",
        "\n",
        "# Call the index_info function with a specific index name\n",
        "index_info(index_name)"
      ],
      "metadata": {
        "colab": {
          "base_uri": "https://localhost:8080/"
        },
        "id": "AoPCSKcZWFx3",
        "outputId": "48e088a2-fc65-452a-85d2-b62304416cf6"
      },
      "execution_count": null,
      "outputs": [
        {
          "output_type": "stream",
          "name": "stdout",
          "text": [
            "\n",
            "      #### INDEX INFO #####\n",
            "      index_name = news\n",
            "      doc_count = 12000\n",
            "      shard_count = 1\n",
            "      deleted_doc_count = 0\n",
            "      \n"
          ]
        }
      ]
    },
    {
      "cell_type": "code",
      "source": [
        "# This function searches for documents in Elasticsearch and returns two types of results:\n",
        "# - the original Elasticsearch results (in the variable `results`)\n",
        "# - a simplified list of relevant fields for each hit (in the variable `plain_results`).\n",
        "# It also prints error messages if any of the required fields are missing in the Elasticsearch results.\n",
        "def search(index_name, query_body):\n",
        "    results = es.search(index=index_name, body=query_body, explain=False)\n",
        "    plain_results = []  # We fields we are most interested in\n",
        "    for hit in results['hits']['hits']:\n",
        "        article_id = hit['_source'].get('article_id')\n",
        "        headline = hit['_source'].get('headline')\n",
        "        link = hit['_source'].get('link')\n",
        "        short_description = hit['_source'].get('short_description')\n",
        "        score = hit['_score']\n",
        "        if article_id and score:\n",
        "            plain_results.append((article_id, headline, link, short_description, round(score, 1)))\n",
        "        else:\n",
        "            print('Error: missing data for article')\n",
        "    return results, plain_results"
      ],
      "metadata": {
        "id": "Wx7sDdGGs7Uy"
      },
      "execution_count": null,
      "outputs": []
    },
    {
      "cell_type": "code",
      "source": [
        "# This function takes the simplified plain results as input and prints them to the console.\n",
        "# It also checks if any of the required fields are missing and prints error messages if necessary.\n",
        "def print_plain_results(plain_results):\n",
        "    print('Results:')\n",
        "    printed_article_ids = set()\n",
        "    for article_id, headline, link, short_description, score in plain_results:\n",
        "        if article_id and score and article_id not in printed_article_ids:\n",
        "            if link is None:\n",
        "                link = ''  # substitute an empty string if link is None\n",
        "            print('-' * 70)\n",
        "            headline = headline.capitalize()\n",
        "            print(headline)\n",
        "            print(link)\n",
        "            print(short_description)\n",
        "            print(f'Article id: {article_id}')\n",
        "            print(f'Score: {round(score, 1)}')\n",
        "            printed_article_ids.add(article_id)\n",
        "        elif not article_id:\n",
        "            print('Error: missing article_id for article')\n",
        "        elif not score:\n",
        "            print('Error: missing score for article')\n"
      ],
      "metadata": {
        "id": "KvDN9DOehYSU"
      },
      "execution_count": null,
      "outputs": []
    },
    {
      "cell_type": "code",
      "source": [
        "query_body = {\n",
        "    'query':{\n",
        "        'term': {\n",
        "            'body':  ''\n",
        "        }\n",
        "    }\n",
        "}\n",
        "results, plain_results = search(index_name, query_body)\n",
        "print_plain_results(plain_results)"
      ],
      "metadata": {
        "colab": {
          "base_uri": "https://localhost:8080/"
        },
        "id": "V5IY006Ghs_q",
        "outputId": "64f39076-bf82-46e3-90a1-1e6d7e0b1675"
      },
      "execution_count": null,
      "outputs": [
        {
          "output_type": "stream",
          "name": "stdout",
          "text": [
            "Results:\n"
          ]
        }
      ]
    },
    {
      "cell_type": "markdown",
      "source": [
        "# UI with Widgets"
      ],
      "metadata": {
        "id": "CDucWp3tiwtk"
      }
    },
    {
      "cell_type": "code",
      "source": [
        "import ipywidgets as widgets"
      ],
      "metadata": {
        "id": "jK-f6oiUi0HG"
      },
      "execution_count": null,
      "outputs": []
    },
    {
      "cell_type": "code",
      "source": [
        "# Taking input from the user and preprocess the query\n",
        "query1 = input(\"Enter a search query: \")\n",
        "query = preprocess_text(query1)\n",
        "\n",
        "# Getting synonyms for each word in the query\n",
        "synonyms = []\n",
        "for word in query.split():\n",
        "    for syn in wordnet.synsets(word):\n",
        "        for lemma in syn.lemmas():\n",
        "            if lemma.name() not in synonyms and lemma.name() != word:\n",
        "                synonyms.append(lemma.name())\n",
        "\n",
        "# Combining the original query with synonyms\n",
        "expanded_query = query + ' ' + ' '.join(synonyms)\n",
        "\n",
        "# Searching for matching results in the index\n",
        "query_body = {\n",
        "    \"query\": {\n",
        "        \"bool\": {\n",
        "            \"must\": [\n",
        "                {\n",
        "                    \"match\": {\n",
        "                        \"short_description\": expanded_query\n",
        "                    }\n",
        "                }\n",
        "            ]\n",
        "        }\n",
        "    }\n",
        "}\n",
        "\n",
        "results, plain_results = search(index_name, query_body)\n",
        "\n",
        "# If no results are found, print a message and exit the program\n",
        "if not results:\n",
        "    print('No results found.')\n",
        "else:\n",
        "    # Print the results and ask the user if they are satisfied\n",
        "    t = print_plain_results(plain_results)\n",
        "    satisfied = input(\"Are you satisfied with the results? (y/n) \")\n",
        "    # If the user is satisfied, print a message and exit the program\n",
        "    if satisfied.lower() == 'y':\n",
        "        print(\"Thank you for using our Search Engine!\")\n",
        "        print(\"Goodbye.\")\n",
        "    # If the user is not satisfied, ask for a score increase\n",
        "    elif satisfied.lower() == 'n':\n",
        "        # Ask user which article_id is the most relevant\n",
        "        article_id = input(\"Which article_id is the most relevant \")\n",
        "        x = input(\"What should be the score?\")\n",
        "        count = float(x)\n",
        "        print(\"Thank you for the feedback!\")\n",
        "        print(\"We will work to improve it, Have a good day!\")\n",
        ""
      ],
      "metadata": {
        "colab": {
          "base_uri": "https://localhost:8080/"
        },
        "id": "BfuDG8NxQVP_",
        "outputId": "497b976c-c2e3-428a-bc21-4dd60792a23b"
      },
      "execution_count": null,
      "outputs": [
        {
          "output_type": "stream",
          "name": "stdout",
          "text": [
            "Enter a search query: politics\n",
            "Results:\n",
            "----------------------------------------------------------------------\n",
            "Republicans want parents to be angry. democrats are trying to give them money.\n",
            "https://www.huffpost.com/entry/republicans-party-of-parents_n_618481ace4b0c8666bda7752\n",
            "The 2022 midterm elections will be a big test of whether improving people's lives is effective politics.\n",
            "Article id: 1710\n",
            "Score: 6.9\n",
            "----------------------------------------------------------------------\n",
            "Trump touts 'massive' turnout at georgia rally that journalists say was 'smallest' in years\n",
            "https://www.huffpost.com/entry/trump-georgia-rally-gop-primary_n_6240d6c0e4b0ccd4f5211e5d\n",
            "“This is the smallest crowd I’ve seen at a rally of his in Georgia since he won the 2016 election,\" one local politics reporter said.\n",
            "Article id: 940\n",
            "Score: 5.9\n",
            "Are you satisfied with the results? (y/n) y\n",
            "Thank you for using our Search Engine!\n",
            "Goodbye.\n"
          ]
        }
      ]
    },
    {
      "cell_type": "markdown",
      "metadata": {
        "id": "PZdVsOutv5ub"
      },
      "source": [
        "## Resources\n",
        "\n",
        "###ElasticSearch API\n",
        "\n",
        "* [Creating an Index](https://www.elastic.co/guide/en/elasticsearch/reference/current/indices-create-index.html)\n",
        "* [Using IR models](https://www.elastic.co/guide/en/elasticsearch/reference/current/index-modules-similarity.html)\n",
        "* [Mappings](https://www.elastic.co/guide/en/elasticsearch/reference/current/mapping.html)\n",
        "* [Shards](https://opster.com/guides/elasticsearch/glossary/elasticsearch-shards/)\n",
        "https://www.geeksforgeeks.org/how-to-import-kaggle-datasets-directly-into-google-colab/\n",
        "https://discuss.elastic.co/t/how-to-connect-google-colab-to-elasticsearch/315618\n",
        "\n",
        "\n",
        "### More UI Examples\n",
        "\n",
        "* [Colab Forms](https://colab.research.google.com/notebooks/forms.ipynb#scrollTo=eFN7-fUKs-Bu)\n",
        "* [Jupyter Widgets](https://ipywidgets.readthedocs.io/en/latest/examples/Widget%20List.html#intrangeslider)\n"
      ]
    }
  ],
  "metadata": {
    "colab": {
      "provenance": []
    },
    "kernelspec": {
      "display_name": "Python 3 (ipykernel)",
      "language": "python",
      "name": "python3"
    },
    "language_info": {
      "codemirror_mode": {
        "name": "ipython",
        "version": 3
      },
      "file_extension": ".py",
      "mimetype": "text/x-python",
      "name": "python",
      "nbconvert_exporter": "python",
      "pygments_lexer": "ipython3",
      "version": "3.9.13"
    }
  },
  "nbformat": 4,
  "nbformat_minor": 0
}